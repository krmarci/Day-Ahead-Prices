{
  "cells": [
    {
      "cell_type": "markdown",
      "metadata": {
        "id": "ZGTjDYzQEuD2"
      },
      "source": [
        "# Data import"
      ]
    },
    {
      "cell_type": "code",
      "execution_count": 1,
      "metadata": {
        "colab": {
          "base_uri": "https://localhost:8080/"
        },
        "id": "7UmPj5arFxD1",
        "outputId": "d6b64aa6-0254-4d93-f41f-0c22484b0443"
      },
      "outputs": [
        {
          "output_type": "stream",
          "name": "stdout",
          "text": [
            "Requirement already satisfied: dateparser in /usr/local/lib/python3.10/dist-packages (1.2.0)\n",
            "Requirement already satisfied: python-dateutil in /usr/local/lib/python3.10/dist-packages (from dateparser) (2.8.2)\n",
            "Requirement already satisfied: pytz in /usr/local/lib/python3.10/dist-packages (from dateparser) (2023.3.post1)\n",
            "Requirement already satisfied: regex!=2019.02.19,!=2021.8.27 in /usr/local/lib/python3.10/dist-packages (from dateparser) (2023.6.3)\n",
            "Requirement already satisfied: tzlocal in /usr/local/lib/python3.10/dist-packages (from dateparser) (5.2)\n",
            "Requirement already satisfied: six>=1.5 in /usr/local/lib/python3.10/dist-packages (from python-dateutil->dateparser) (1.16.0)\n",
            "Requirement already satisfied: workalendar in /usr/local/lib/python3.10/dist-packages (17.0.0)\n",
            "Requirement already satisfied: python-dateutil in /usr/local/lib/python3.10/dist-packages (from workalendar) (2.8.2)\n",
            "Requirement already satisfied: lunardate in /usr/local/lib/python3.10/dist-packages (from workalendar) (0.2.2)\n",
            "Requirement already satisfied: convertdate in /usr/local/lib/python3.10/dist-packages (from workalendar) (2.4.0)\n",
            "Requirement already satisfied: pyluach in /usr/local/lib/python3.10/dist-packages (from workalendar) (2.2.0)\n",
            "Requirement already satisfied: pymeeus<=1,>=0.3.13 in /usr/local/lib/python3.10/dist-packages (from convertdate->workalendar) (0.5.12)\n",
            "Requirement already satisfied: six>=1.5 in /usr/local/lib/python3.10/dist-packages (from python-dateutil->workalendar) (1.16.0)\n"
          ]
        }
      ],
      "source": [
        "!pip install dateparser\n",
        "!pip install workalendar"
      ]
    },
    {
      "cell_type": "code",
      "execution_count": 2,
      "metadata": {
        "id": "HiDKKRfdEsng"
      },
      "outputs": [],
      "source": [
        "import xml.etree.ElementTree as ET\n",
        "import numpy as np\n",
        "import pandas as pd\n",
        "import matplotlib.pyplot as plt\n",
        "import dateparser\n",
        "import statsmodels.api as sm\n",
        "import statsmodels.tsa as tsa\n",
        "import keras\n",
        "from keras.layers import Dense\n",
        "from workalendar.europe import Hungary"
      ]
    },
    {
      "cell_type": "code",
      "execution_count": 3,
      "metadata": {
        "id": "7lKTtprlE292"
      },
      "outputs": [],
      "source": [
        "# Prices\n",
        "trees = [ET.parse(f'/content/drive/MyDrive/BME/2. félév/Önálló labor 2/Prices/{year}.xml').getroot() for year in range(2017,2024)]\n",
        "values = np.array([float(time.text) for tree in trees for time in tree.iter('price.amount')])\n",
        "values = values.reshape(len(values) // 24, 24)    # All times in CET - ignores DST\n",
        "dates = np.array([np.datetime64(time[1].text[:10]) for tree in trees for time in tree.iter('timeInterval')])\n",
        "data = pd.DataFrame(values).set_index(dates)\n",
        "baseline = pd.DataFrame(values[:-7]).set_index(dates[7:])"
      ]
    },
    {
      "cell_type": "code",
      "execution_count": 4,
      "metadata": {
        "id": "tFsxOW7vFTif"
      },
      "outputs": [],
      "source": [
        "stacked_data = pd.DataFrame(data.stack())\n",
        "stacked_dates = pd.Index([t[0] + pd.Timedelta(hours=t[1]) for t in np.array(stacked_data.index)])\n",
        "stacked_data = stacked_data.set_index(stacked_dates)\n",
        "stacked_baseline = pd.DataFrame(baseline.stack())\n",
        "stacked_baseline = stacked_baseline.set_index(stacked_dates[168:])"
      ]
    },
    {
      "cell_type": "code",
      "execution_count": 5,
      "metadata": {
        "id": "JnrLiiXiFVm7"
      },
      "outputs": [],
      "source": [
        "df = stacked_data.rename(columns={0: 'data'})\n",
        "df['baseline'] = stacked_baseline"
      ]
    },
    {
      "cell_type": "code",
      "execution_count": 6,
      "metadata": {
        "id": "O6Pnoj6XFg_f"
      },
      "outputs": [],
      "source": [
        "# BUX\n",
        "bux = pd.ExcelFile('https://statisztika.mnb.hu/timeseries/Buxindex_hu.xls').parse(skiprows=4, index_col=0)\n",
        "bux = bux.drop(index=bux.index[0])\n",
        "bux['BUX'] = bux['BUX'].astype('float64')"
      ]
    },
    {
      "cell_type": "code",
      "execution_count": 7,
      "metadata": {
        "id": "RlwA1JMdFivT"
      },
      "outputs": [],
      "source": [
        "# Deviza\n",
        "deviza = pd.read_html('https://www.mnb.hu/arfolyam-tablazat?deviza=rbCustom&devizaSelected=EUR&datefrom=2017.12.22.&datetill=2023.10.31.&order=1&customdeviza%5B%5D=EUR&customdeviza%5B%5D=USD')[0]\n",
        "deviza.columns = ['Dátum', 'EUR', 'USD']\n",
        "deviza['Dátum'] = deviza['Dátum'].apply(dateparser.parse)\n",
        "deviza = deviza.set_index('Dátum')"
      ]
    },
    {
      "cell_type": "code",
      "source": [
        "financial = bux.merge(deviza, how='inner', left_on=bux.index, right_on=deviza.index).set_index('key_0')\n",
        "financial = financial.merge(pd.DataFrame(index=pd.date_range('2017-12-25', '2023-10-31')), how='outer', left_index=True, right_index=True).ffill().sort_index().iloc[1:]\n",
        "financial = financial[~financial.index.duplicated(keep='first')]\n",
        "financial.index = financial.index.shift(10, freq='H').tz_localize('UTC').tz_convert('Europe/Berlin')"
      ],
      "metadata": {
        "id": "tBY19U8SIv0p"
      },
      "execution_count": 8,
      "outputs": []
    },
    {
      "cell_type": "code",
      "execution_count": 7,
      "metadata": {
        "id": "JDtU_z_oSiZN"
      },
      "outputs": [],
      "source": [
        "# Weather\n",
        "weather_hist = pd.read_csv('/content/drive/MyDrive/BME/2. félév/Önálló labor 2/HABP_1H_20100407_20221231_44625.csv', skiprows=5, sep=';')\n",
        "weather_rec = pd.read_csv('/content/drive/MyDrive/BME/2. félév/Önálló labor 2/HABP_1H_20230101_20231124_44625.csv', skiprows=5, sep=';')\n",
        "weather = pd.concat([weather_hist, weather_rec])"
      ]
    },
    {
      "cell_type": "code",
      "execution_count": 8,
      "metadata": {
        "id": "69hgKD3HT3bN"
      },
      "outputs": [],
      "source": [
        "weather.columns = [col.strip() for col in weather.columns]\n",
        "weather = weather.drop([col for col in weather.columns if col[:2] == 'Q_'], axis=1)\n",
        "weather = weather.drop([col for col in weather.columns if (weather[col] == -999).all()], axis=1)\n",
        "weather = weather.drop(['StationNumber', 'EOR', 'fxdat'], axis=1)\n",
        "weather = weather.rename({'Time': 'mérési időpont', 'r': 'csapadékösszeg', 't': 'pillanatnyi hőmérséklet', 'ta': 'átlaghőmérséklet',\n",
        "                          'tn': 'minimumhőmérséklet', 'tx': 'maximumhőmérséklet', 'p': 'műszerszinti légnyomás', 'u': 'relatív nedvesség',\n",
        "                          'sr': 'globálsugárzás összeg', 'fs': 'szinoptikus szélsebesség', 'fsd': 'szinoptikus szélirány',\n",
        "                          'fx': 'maximális széllökés sebessége', 'fxd': 'maximális széllökés iránya', 'p0': 'pillanatnyi tengerszinti légnyomás',\n",
        "                          'f': 'átlagos szélsebesség', 'fd': 'szélirány', 'tsn': 'felszínközeli hőmérséklet minimuma'}, axis=1)\n",
        "weather['mérési időpont'] = weather['mérési időpont'].apply(lambda x: str(x)).apply(lambda x: f'{x[:4]}-{x[4:6]}-{x[6:8]} {x[8:10]}:{x[10:12]}').astype('datetime64').apply(lambda x: x + pd.Timedelta(hours=1))\n",
        "weather = weather.set_index('mérési időpont')"
      ]
    },
    {
      "cell_type": "code",
      "execution_count": 9,
      "metadata": {
        "id": "WikH17HeUlbI"
      },
      "outputs": [],
      "source": [
        "df = weather.merge(df, how='inner', left_on=weather.index, right_on=df.index).set_index('key_0')\n",
        "df = df.dropna(subset=['data'])\n",
        "df = df[~df.index.duplicated(keep='first')]"
      ]
    },
    {
      "cell_type": "code",
      "execution_count": 10,
      "metadata": {
        "id": "98Y-pfY2cR8v"
      },
      "outputs": [],
      "source": [
        "# Workdays\n",
        "cal = Hungary()\n",
        "workdays = pd.date_range('2017-12-25T00:00+01:00', '2023-10-31T00:00+01:00', freq='D').tz_convert('Europe/Berlin')\n",
        "workdays = pd.Series(workdays.map(cal.is_working_day), index=workdays)"
      ]
    },
    {
      "cell_type": "code",
      "execution_count": 11,
      "metadata": {
        "id": "UNKwpaSotMQo"
      },
      "outputs": [],
      "source": [
        "# Munkanap-áthelyezések\n",
        "# 2017\n",
        "# Nincs munkanap-áthelyezés\n",
        "\n",
        "# 2018\n",
        "workdays['2018-03-10'] = True\n",
        "workdays['2018-03-16'] = False\n",
        "workdays['2018-04-21'] = True\n",
        "workdays['2018-04-30'] = False\n",
        "workdays['2018-10-13'] = True\n",
        "workdays['2018-10-22'] = False\n",
        "workdays['2018-11-02'] = False\n",
        "workdays['2018-11-10'] = True\n",
        "workdays['2018-12-01'] = True\n",
        "workdays['2018-12-15'] = True\n",
        "workdays['2018-12-24'] = False\n",
        "workdays['2018-12-31'] = False\n",
        "\n",
        "# 2019\n",
        "workdays['2019-08-10'] = True\n",
        "workdays['2019-08-19'] = False\n",
        "workdays['2019-12-07'] = True\n",
        "workdays['2019-12-14'] = True\n",
        "workdays['2019-12-24'] = False\n",
        "workdays['2019-12-31'] = False\n",
        "\n",
        "# 2020\n",
        "workdays['2020-08-21'] = False\n",
        "workdays['2020-08-29'] = True\n",
        "workdays['2020-12-12'] = True\n",
        "workdays['2020-12-24'] = False\n",
        "\n",
        "# 2021\n",
        "workdays['2021-12-11'] = True\n",
        "workdays['2021-12-24'] = False\n",
        "\n",
        "# 2022\n",
        "workdays['2022-03-14'] = False\n",
        "workdays['2022-03-26'] = True\n",
        "workdays['2022-10-15'] = True\n",
        "workdays['2022-10-31'] = False\n",
        "\n",
        "# 2023\n",
        "# Nincs munkanap-áthelyezés"
      ]
    },
    {
      "cell_type": "code",
      "execution_count": 12,
      "metadata": {
        "id": "X3AUhMEItyUW"
      },
      "outputs": [],
      "source": [
        "workdays = workdays.astype('int64')"
      ]
    },
    {
      "cell_type": "markdown",
      "metadata": {
        "id": "PqifE9Ql5JSx"
      },
      "source": [
        "# Train and test data"
      ]
    },
    {
      "cell_type": "code",
      "execution_count": 13,
      "metadata": {
        "id": "45880O9JmLxA"
      },
      "outputs": [],
      "source": [
        "df.index = df.index.shift(-1, freq='H').tz_localize('UTC').tz_convert('Europe/Berlin')"
      ]
    },
    {
      "cell_type": "code",
      "source": [
        "df['data'].to_csv('prices.csv')"
      ],
      "metadata": {
        "id": "ZPlMhCYlOv9_"
      },
      "execution_count": 14,
      "outputs": []
    },
    {
      "cell_type": "code",
      "source": [
        "dates_train = pd.date_range('2018-01-01T00:00+01:00', '2022-12-30T23:00+01:00', freq='H').tz_convert('Europe/Berlin')"
      ],
      "metadata": {
        "id": "iIdreNOXLGuQ"
      },
      "execution_count": 15,
      "outputs": []
    },
    {
      "cell_type": "code",
      "source": [
        "dates_test = pd.date_range('2023-01-01T00:00+01:00', '2023-10-30T23:00+01:00', freq='H').tz_convert('Europe/Berlin')"
      ],
      "metadata": {
        "id": "MA3uFahlLT5R"
      },
      "execution_count": 16,
      "outputs": []
    },
    {
      "cell_type": "code",
      "source": [
        "# Input: previous 168 hours of weather and price data, hour at the start of observations, workdays in the input and output period\n",
        "X_train = pd.DataFrame([df.drop(['baseline'], axis=1).loc[date+pd.Timedelta(hours=-168):date+pd.Timedelta(minutes=-1)].unstack().to_numpy() for date in dates_train])    # weather and price data\n",
        "X_train = pd.concat([X_train, pd.Series([date.hour for date in dates_train], name=X_train.columns.max()+1)], axis=1)  # starting hour\n",
        "X_train = pd.concat([X_train, pd.DataFrame(np.array([workdays[date+pd.Timedelta(hours=-168):date+pd.Timedelta(hours=23)] for date in dates_train]))], axis=1)   # workdays\n",
        "# X_train = pd.concat([X_train, pd.DataFrame(np.array([financial[date+pd.Timedelta(hours=-168):date+pd.Timedelta(minutes=-1)].unstack() for date in dates_train]))], axis=1)    # financial data\n",
        "X_train.columns = np.arange(0, len(X_train.columns))\n",
        "X_train.index = dates_train"
      ],
      "metadata": {
        "id": "5O8sinAi7zOR"
      },
      "execution_count": null,
      "outputs": []
    },
    {
      "cell_type": "code",
      "source": [
        "# Input: previous 168 hours of weather and price data, hour at the start of observations, workdays in the input and output period\n",
        "X_test = pd.DataFrame([df.drop(['baseline'], axis=1).loc[date+pd.Timedelta(hours=-168):date+pd.Timedelta(minutes=-1)].unstack().to_numpy() for date in dates_test])\n",
        "X_test = pd.concat([X_test, pd.Series([date.hour for date in dates_test], name=X_test.columns.max()+1)], axis=1)\n",
        "X_test = pd.concat([X_test, pd.DataFrame(np.array([workdays[date+pd.Timedelta(hours=-168):date+pd.Timedelta(hours=23)] for date in dates_test]))], axis=1)\n",
        "# X_test = pd.concat([X_test, pd.DataFrame(np.array([financial[date+pd.Timedelta(hours=-168):date+pd.Timedelta(minutes=-1)].unstack() for date in dates_test]))], axis=1)\n",
        "X_test.columns = np.arange(0, len(X_test.columns))\n",
        "X_test.index = dates_test\n",
        "y_test = pd.DataFrame(np.array([df.loc[date:date+pd.Timedelta(hours=23), 'data'].to_numpy() for date in dates_test]), columns=np.arange(0,24), index=dates_test)"
      ],
      "metadata": {
        "id": "r-KTOgOTIOf4"
      },
      "execution_count": 17,
      "outputs": []
    },
    {
      "cell_type": "code",
      "source": [
        "y_train = pd.DataFrame(np.array([df.loc[date:date+pd.Timedelta(hours=23), 'data'].to_numpy() for date in dates_train]), columns=np.arange(0,24), index=dates_train)"
      ],
      "metadata": {
        "id": "0l21xq0fEnow"
      },
      "execution_count": null,
      "outputs": []
    },
    {
      "cell_type": "code",
      "execution_count": null,
      "metadata": {
        "id": "Cc2yXtgp6cEM"
      },
      "outputs": [],
      "source": [
        "X_train.to_csv('/content/drive/MyDrive/BME/2. félév/Önálló labor 2/X.csv')"
      ]
    },
    {
      "cell_type": "code",
      "source": [
        "y_train.to_csv('/content/drive/MyDrive/BME/2. félév/Önálló labor 2/y.csv')"
      ],
      "metadata": {
        "id": "ohT4icTIfVa0"
      },
      "execution_count": null,
      "outputs": []
    },
    {
      "cell_type": "code",
      "source": [
        "X_train = pd.read_csv('/content/drive/MyDrive/BME/2. félév/Önálló labor 2/X.csv', index_col=0)"
      ],
      "metadata": {
        "id": "TLskfn4kffDB"
      },
      "execution_count": 18,
      "outputs": []
    },
    {
      "cell_type": "code",
      "execution_count": 19,
      "metadata": {
        "id": "3KSl1KqtbLFx"
      },
      "outputs": [],
      "source": [
        "y_train = pd.read_csv('/content/drive/MyDrive/BME/2. félév/Önálló labor 2/y.csv', index_col=0)"
      ]
    },
    {
      "cell_type": "markdown",
      "source": [
        "# Baseline"
      ],
      "metadata": {
        "id": "tQ5_jqWriiAl"
      }
    },
    {
      "cell_type": "code",
      "source": [
        "bl = df.loc[pd.to_datetime('2023-01-01T00:00+01:00'):, ['data', 'baseline']]"
      ],
      "metadata": {
        "id": "OaBVBi-QijHl"
      },
      "execution_count": 20,
      "outputs": []
    },
    {
      "cell_type": "code",
      "source": [
        "bl.corr().iloc[0,1]**2"
      ],
      "metadata": {
        "colab": {
          "base_uri": "https://localhost:8080/"
        },
        "id": "83FoL0zyjFUy",
        "outputId": "072a2caf-b24c-466d-f145-894556e08cc6"
      },
      "execution_count": 21,
      "outputs": [
        {
          "output_type": "execute_result",
          "data": {
            "text/plain": [
              "0.45258828009977287"
            ]
          },
          "metadata": {},
          "execution_count": 21
        }
      ]
    },
    {
      "cell_type": "code",
      "source": [
        "((bl['data'] - bl['baseline'])**2).mean()**0.5"
      ],
      "metadata": {
        "colab": {
          "base_uri": "https://localhost:8080/"
        },
        "id": "Bwyn3a_xi4gL",
        "outputId": "698eea8c-b5ed-4dcc-ad94-a6578d773fbf"
      },
      "execution_count": 22,
      "outputs": [
        {
          "output_type": "execute_result",
          "data": {
            "text/plain": [
              "38.54969573048312"
            ]
          },
          "metadata": {},
          "execution_count": 22
        }
      ]
    },
    {
      "cell_type": "markdown",
      "metadata": {
        "id": "O_q0VbNckFdM"
      },
      "source": [
        "# Decomposition"
      ]
    },
    {
      "cell_type": "code",
      "execution_count": 23,
      "metadata": {
        "id": "ztp__CxupMtp"
      },
      "outputs": [],
      "source": [
        "dc = tsa.seasonal.seasonal_decompose(df.loc[pd.to_datetime('2017-12-25T00:00+01:00'):pd.to_datetime('2022-12-31T23:00+01:00'), 'data'], two_sided=False, period=168)"
      ]
    },
    {
      "cell_type": "code",
      "execution_count": 24,
      "metadata": {
        "colab": {
          "base_uri": "https://localhost:8080/",
          "height": 486
        },
        "id": "_LiMWkFapylr",
        "outputId": "892e9982-2c31-44d6-e9b9-0caad08d1ab1"
      },
      "outputs": [
        {
          "output_type": "display_data",
          "data": {
            "text/plain": [
              "<Figure size 640x480 with 4 Axes>"
            ],
            "image/png": "[encoded data removed]"
          },
          "metadata": {}
        }
      ],
      "source": [
        "plot = dc.plot()"
      ]
    },
    {
      "cell_type": "code",
      "source": [
        "plt.figure(figsize=(8,4))\n",
        "dc.seasonal.iloc[168:168*2].plot()\n",
        "plt.xlabel('Seasonal component')"
      ],
      "metadata": {
        "colab": {
          "base_uri": "https://localhost:8080/",
          "height": 438
        },
        "id": "MF7wa_oZkLoj",
        "outputId": "eb39056d-3bfb-4c37-ff2e-3490b15ef401"
      },
      "execution_count": 25,
      "outputs": [
        {
          "output_type": "execute_result",
          "data": {
            "text/plain": [
              "Text(0.5, 0, 'Seasonal component')"
            ]
          },
          "metadata": {},
          "execution_count": 25
        },
        {
          "output_type": "display_data",
          "data": {
            "text/plain": [
              "<Figure size 800x400 with 1 Axes>"
            ],
            "image/png": "[encoded data removed]"
          },
          "metadata": {}
        }
      ]
    },
    {
      "cell_type": "code",
      "source": [
        "model_resid = keras.models.Sequential()\n",
        "model_resid.add(Dense(128, input_dim=2865, activation='relu'))\n",
        "model_resid.add(Dense(64, activation='relu'))\n",
        "model_resid.add(Dense(24, activation='linear'))\n",
        "model_resid.compile(loss='mean_squared_error', optimizer='adam', metrics=['mae'])\n",
        "checkpoint_resid = keras.callbacks.ModelCheckpoint('/content/drive/MyDrive/BME/2. félév/Önálló labor 2/best_nn_resid.hdf5', monitor='val_loss', verbose=1, save_best_only=True, save_weights_only=False, mode='auto', save_frequency=1)"
      ],
      "metadata": {
        "id": "Wc0ENnUc2IgF"
      },
      "execution_count": null,
      "outputs": []
    },
    {
      "cell_type": "code",
      "source": [
        "y_resid = np.array([dc.resid[date:date+pd.Timedelta(hours=23)].to_numpy() for date in pd.date_range('2018-01-01T00:00+01:00', '2022-12-30T23:00+01:00', freq='H')])"
      ],
      "metadata": {
        "id": "m2CL8xzu2ssm"
      },
      "execution_count": null,
      "outputs": []
    },
    {
      "cell_type": "code",
      "source": [
        "model_resid.fit(x=X_train, y=y_resid, batch_size=1000, epochs=100, validation_split=0.1, callbacks=[checkpoint_resid])"
      ],
      "metadata": {
        "colab": {
          "base_uri": "https://localhost:8080/"
        },
        "id": "gAOIZOAdLa1i",
        "outputId": "fa664bcd-9012-4590-80e8-64c3de261365"
      },
      "execution_count": null,
      "outputs": [
        {
          "output_type": "stream",
          "name": "stdout",
          "text": [
            "Epoch 1/100\n",
            "39/40 [============================>.] - ETA: 0s - loss: 388.7209 - mae: 14.9414\n",
            "Epoch 1: val_loss did not improve from 8408.91602\n",
            "40/40 [==============================] - 3s 75ms/step - loss: 388.2895 - mae: 14.9365 - val_loss: 8433.9902 - val_mae: 68.8030\n",
            "Epoch 2/100\n",
            "39/40 [============================>.] - ETA: 0s - loss: 388.9944 - mae: 14.9512\n",
            "Epoch 2: val_loss did not improve from 8408.91602\n",
            "40/40 [==============================] - 3s 88ms/step - loss: 389.0307 - mae: 14.9525 - val_loss: 8451.9111 - val_mae: 68.7964\n",
            "Epoch 3/100\n",
            "40/40 [==============================] - ETA: 0s - loss: 403.9039 - mae: 15.1693\n",
            "Epoch 3: val_loss did not improve from 8408.91602\n",
            "40/40 [==============================] - 4s 96ms/step - loss: 403.9039 - mae: 15.1693 - val_loss: 8506.1758 - val_mae: 68.9996\n",
            "Epoch 4/100\n",
            "39/40 [============================>.] - ETA: 0s - loss: 392.5463 - mae: 15.0105\n",
            "Epoch 4: val_loss improved from 8408.91602 to 8322.33984, saving model to /content/drive/MyDrive/BME/2. félév/Önálló labor 2/best_nn_resid.hdf5\n"
          ]
        },
        {
          "output_type": "stream",
          "name": "stderr",
          "text": [
            "/usr/local/lib/python3.10/dist-packages/keras/src/engine/training.py:3079: UserWarning: You are saving your model as an HDF5 file via `model.save()`. This file format is considered legacy. We recommend using instead the native Keras format, e.g. `model.save('my_model.keras')`.\n",
            "  saving_api.save_model(\n"
          ]
        },
        {
          "output_type": "stream",
          "name": "stdout",
          "text": [
            "\b\b\b\b\b\b\b\b\b\b\b\b\b\b\b\b\b\b\b\b\b\b\b\b\b\b\b\b\b\b\b\b\b\b\b\b\b\b\b\b\b\b\b\b\b\b\b\b\b\b\b\b\b\b\b\b\b\b\b\b\b\b\b\b\b\b\b\b\b\b\b\b\b\b\b\b\b\b\b\b\r40/40 [==============================] - 3s 80ms/step - loss: 392.7391 - mae: 15.0137 - val_loss: 8322.3398 - val_mae: 68.2702\n",
            "Epoch 5/100\n",
            "39/40 [============================>.] - ETA: 0s - loss: 382.4891 - mae: 14.8663\n",
            "Epoch 5: val_loss did not improve from 8322.33984\n",
            "40/40 [==============================] - 2s 52ms/step - loss: 382.3741 - mae: 14.8665 - val_loss: 8447.3535 - val_mae: 68.9182\n",
            "Epoch 6/100\n",
            "40/40 [==============================] - ETA: 0s - loss: 378.6882 - mae: 14.8074\n",
            "Epoch 6: val_loss did not improve from 8322.33984\n",
            "40/40 [==============================] - 2s 51ms/step - loss: 378.6882 - mae: 14.8074 - val_loss: 8393.0576 - val_mae: 68.5803\n",
            "Epoch 7/100\n",
            "39/40 [============================>.] - ETA: 0s - loss: 378.7651 - mae: 14.8075\n",
            "Epoch 7: val_loss did not improve from 8322.33984\n",
            "40/40 [==============================] - 3s 69ms/step - loss: 378.6299 - mae: 14.8069 - val_loss: 8398.7549 - val_mae: 68.6775\n",
            "Epoch 8/100\n",
            "39/40 [============================>.] - ETA: 0s - loss: 377.5846 - mae: 14.7908\n",
            "Epoch 8: val_loss did not improve from 8322.33984\n",
            "40/40 [==============================] - 3s 72ms/step - loss: 377.3756 - mae: 14.7886 - val_loss: 8443.1885 - val_mae: 68.7974\n",
            "Epoch 9/100\n",
            "40/40 [==============================] - ETA: 0s - loss: 399.8305 - mae: 15.1104\n",
            "Epoch 9: val_loss did not improve from 8322.33984\n",
            "40/40 [==============================] - 4s 99ms/step - loss: 399.8305 - mae: 15.1104 - val_loss: 8515.5420 - val_mae: 69.0592\n",
            "Epoch 10/100\n",
            "40/40 [==============================] - ETA: 0s - loss: 378.7773 - mae: 14.8163\n",
            "Epoch 10: val_loss did not improve from 8322.33984\n",
            "40/40 [==============================] - 3s 76ms/step - loss: 378.7773 - mae: 14.8163 - val_loss: 8412.6836 - val_mae: 68.5256\n",
            "Epoch 11/100\n",
            "40/40 [==============================] - ETA: 0s - loss: 374.0143 - mae: 14.7423\n",
            "Epoch 11: val_loss did not improve from 8322.33984\n",
            "40/40 [==============================] - 2s 52ms/step - loss: 374.0143 - mae: 14.7423 - val_loss: 8511.0068 - val_mae: 68.8677\n",
            "Epoch 12/100\n",
            "39/40 [============================>.] - ETA: 0s - loss: 381.2195 - mae: 14.8557\n",
            "Epoch 12: val_loss did not improve from 8322.33984\n",
            "40/40 [==============================] - 2s 62ms/step - loss: 381.1952 - mae: 14.8562 - val_loss: 8540.8398 - val_mae: 69.0178\n",
            "Epoch 13/100\n",
            "40/40 [==============================] - ETA: 0s - loss: 381.0688 - mae: 14.8591\n",
            "Epoch 13: val_loss did not improve from 8322.33984\n",
            "40/40 [==============================] - 2s 59ms/step - loss: 381.0688 - mae: 14.8591 - val_loss: 8550.7344 - val_mae: 68.9756\n",
            "Epoch 14/100\n",
            "39/40 [============================>.] - ETA: 0s - loss: 372.1149 - mae: 14.7137\n",
            "Epoch 14: val_loss did not improve from 8322.33984\n",
            "40/40 [==============================] - 2s 54ms/step - loss: 371.9714 - mae: 14.7150 - val_loss: 8702.8672 - val_mae: 69.7991\n",
            "Epoch 15/100\n",
            "40/40 [==============================] - ETA: 0s - loss: 375.4870 - mae: 14.7796\n",
            "Epoch 15: val_loss did not improve from 8322.33984\n",
            "40/40 [==============================] - 3s 85ms/step - loss: 375.4870 - mae: 14.7796 - val_loss: 8515.7461 - val_mae: 68.9265\n",
            "Epoch 16/100\n",
            "40/40 [==============================] - ETA: 0s - loss: 380.5488 - mae: 14.8547\n",
            "Epoch 16: val_loss did not improve from 8322.33984\n",
            "40/40 [==============================] - 4s 103ms/step - loss: 380.5488 - mae: 14.8547 - val_loss: 8555.5303 - val_mae: 69.0822\n",
            "Epoch 17/100\n",
            "39/40 [============================>.] - ETA: 0s - loss: 374.2690 - mae: 14.7472\n",
            "Epoch 17: val_loss did not improve from 8322.33984\n",
            "40/40 [==============================] - 3s 69ms/step - loss: 374.3827 - mae: 14.7496 - val_loss: 8588.1309 - val_mae: 69.2049\n",
            "Epoch 18/100\n",
            "39/40 [============================>.] - ETA: 0s - loss: 374.6922 - mae: 14.7507\n",
            "Epoch 18: val_loss did not improve from 8322.33984\n",
            "40/40 [==============================] - 3s 65ms/step - loss: 374.8147 - mae: 14.7489 - val_loss: 8673.1416 - val_mae: 69.2264\n",
            "Epoch 19/100\n",
            "40/40 [==============================] - ETA: 0s - loss: 372.4724 - mae: 14.7185\n",
            "Epoch 19: val_loss did not improve from 8322.33984\n",
            "40/40 [==============================] - 2s 59ms/step - loss: 372.4724 - mae: 14.7185 - val_loss: 8508.9814 - val_mae: 68.7400\n",
            "Epoch 20/100\n",
            "40/40 [==============================] - ETA: 0s - loss: 369.5846 - mae: 14.6877\n",
            "Epoch 20: val_loss did not improve from 8322.33984\n",
            "40/40 [==============================] - 2s 56ms/step - loss: 369.5846 - mae: 14.6877 - val_loss: 8562.1992 - val_mae: 69.1621\n",
            "Epoch 21/100\n",
            "39/40 [============================>.] - ETA: 0s - loss: 375.4656 - mae: 14.7787\n",
            "Epoch 21: val_loss did not improve from 8322.33984\n",
            "40/40 [==============================] - 3s 78ms/step - loss: 375.2406 - mae: 14.7755 - val_loss: 8591.8379 - val_mae: 69.0823\n",
            "Epoch 22/100\n",
            "40/40 [==============================] - ETA: 0s - loss: 374.8543 - mae: 14.7434\n",
            "Epoch 22: val_loss did not improve from 8322.33984\n",
            "40/40 [==============================] - 4s 92ms/step - loss: 374.8543 - mae: 14.7434 - val_loss: 8905.4316 - val_mae: 70.3036\n",
            "Epoch 23/100\n",
            "39/40 [============================>.] - ETA: 0s - loss: 370.4633 - mae: 14.6887\n",
            "Epoch 23: val_loss did not improve from 8322.33984\n",
            "40/40 [==============================] - 3s 75ms/step - loss: 370.2428 - mae: 14.6860 - val_loss: 8966.0234 - val_mae: 70.6954\n",
            "Epoch 24/100\n",
            "39/40 [============================>.] - ETA: 0s - loss: 368.1522 - mae: 14.6733\n",
            "Epoch 24: val_loss did not improve from 8322.33984\n",
            "40/40 [==============================] - 2s 57ms/step - loss: 367.9228 - mae: 14.6697 - val_loss: 8461.4814 - val_mae: 68.5887\n",
            "Epoch 25/100\n",
            "39/40 [============================>.] - ETA: 0s - loss: 377.9294 - mae: 14.8283\n",
            "Epoch 25: val_loss did not improve from 8322.33984\n",
            "40/40 [==============================] - 2s 52ms/step - loss: 377.9808 - mae: 14.8287 - val_loss: 8524.6172 - val_mae: 68.7132\n",
            "Epoch 26/100\n",
            "40/40 [==============================] - ETA: 0s - loss: 373.0193 - mae: 14.7448\n",
            "Epoch 26: val_loss did not improve from 8322.33984\n",
            "40/40 [==============================] - 2s 51ms/step - loss: 373.0193 - mae: 14.7448 - val_loss: 8650.8203 - val_mae: 69.2759\n",
            "Epoch 27/100\n",
            "39/40 [============================>.] - ETA: 0s - loss: 366.2204 - mae: 14.6447\n",
            "Epoch 27: val_loss did not improve from 8322.33984\n",
            "40/40 [==============================] - 2s 58ms/step - loss: 366.1435 - mae: 14.6446 - val_loss: 8683.8105 - val_mae: 69.3128\n",
            "Epoch 28/100\n",
            "40/40 [==============================] - ETA: 0s - loss: 363.1567 - mae: 14.5917\n",
            "Epoch 28: val_loss did not improve from 8322.33984\n",
            "40/40 [==============================] - 4s 93ms/step - loss: 363.1567 - mae: 14.5917 - val_loss: 8720.4189 - val_mae: 69.3913\n",
            "Epoch 29/100\n",
            "40/40 [==============================] - ETA: 0s - loss: 364.9592 - mae: 14.6358\n",
            "Epoch 29: val_loss did not improve from 8322.33984\n",
            "40/40 [==============================] - 4s 100ms/step - loss: 364.9592 - mae: 14.6358 - val_loss: 8450.2217 - val_mae: 68.4780\n",
            "Epoch 30/100\n",
            "39/40 [============================>.] - ETA: 0s - loss: 367.9498 - mae: 14.6839\n",
            "Epoch 30: val_loss did not improve from 8322.33984\n",
            "40/40 [==============================] - 2s 61ms/step - loss: 368.0792 - mae: 14.6846 - val_loss: 8600.3428 - val_mae: 69.1647\n",
            "Epoch 31/100\n",
            "39/40 [============================>.] - ETA: 0s - loss: 364.5505 - mae: 14.6302\n",
            "Epoch 31: val_loss did not improve from 8322.33984\n",
            "40/40 [==============================] - 2s 63ms/step - loss: 364.3987 - mae: 14.6264 - val_loss: 8365.6709 - val_mae: 68.0704\n",
            "Epoch 32/100\n",
            "39/40 [============================>.] - ETA: 0s - loss: 396.2346 - mae: 14.9957\n",
            "Epoch 32: val_loss did not improve from 8322.33984\n",
            "40/40 [==============================] - 3s 63ms/step - loss: 395.7033 - mae: 14.9901 - val_loss: 9059.4004 - val_mae: 70.7974\n",
            "Epoch 33/100\n",
            "39/40 [============================>.] - ETA: 0s - loss: 386.9009 - mae: 14.8519\n",
            "Epoch 33: val_loss did not improve from 8322.33984\n",
            "40/40 [==============================] - 2s 59ms/step - loss: 387.0764 - mae: 14.8522 - val_loss: 9128.7549 - val_mae: 71.1150\n",
            "Epoch 34/100\n",
            "39/40 [============================>.] - ETA: 0s - loss: 378.1597 - mae: 14.7566\n",
            "Epoch 34: val_loss did not improve from 8322.33984\n",
            "40/40 [==============================] - 3s 71ms/step - loss: 377.8849 - mae: 14.7537 - val_loss: 8596.5654 - val_mae: 68.7893\n",
            "Epoch 35/100\n",
            "40/40 [==============================] - ETA: 0s - loss: 369.0189 - mae: 14.6757\n",
            "Epoch 35: val_loss did not improve from 8322.33984\n",
            "40/40 [==============================] - 4s 94ms/step - loss: 369.0189 - mae: 14.6757 - val_loss: 8678.5918 - val_mae: 69.2589\n",
            "Epoch 36/100\n",
            "39/40 [============================>.] - ETA: 0s - loss: 368.4273 - mae: 14.6406\n",
            "Epoch 36: val_loss did not improve from 8322.33984\n",
            "40/40 [==============================] - 3s 82ms/step - loss: 368.5509 - mae: 14.6391 - val_loss: 8701.2422 - val_mae: 69.4662\n",
            "Epoch 37/100\n",
            "39/40 [============================>.] - ETA: 0s - loss: 350.0646 - mae: 14.2479\n",
            "Epoch 37: val_loss did not improve from 8322.33984\n",
            "40/40 [==============================] - 2s 61ms/step - loss: 350.6682 - mae: 14.2562 - val_loss: 8533.9570 - val_mae: 68.7454\n",
            "Epoch 38/100\n",
            "39/40 [============================>.] - ETA: 0s - loss: 346.3000 - mae: 14.1598\n",
            "Epoch 38: val_loss did not improve from 8322.33984\n",
            "40/40 [==============================] - 2s 61ms/step - loss: 346.4343 - mae: 14.1607 - val_loss: 8383.6660 - val_mae: 68.1022\n",
            "Epoch 39/100\n",
            "39/40 [============================>.] - ETA: 0s - loss: 350.0986 - mae: 14.2243\n",
            "Epoch 39: val_loss did not improve from 8322.33984\n",
            "40/40 [==============================] - 2s 54ms/step - loss: 349.8586 - mae: 14.2216 - val_loss: 8329.4229 - val_mae: 67.9969\n",
            "Epoch 40/100\n",
            "39/40 [============================>.] - ETA: 0s - loss: 355.4170 - mae: 14.3158\n",
            "Epoch 40: val_loss did not improve from 8322.33984\n",
            "40/40 [==============================] - 2s 52ms/step - loss: 354.8072 - mae: 14.3063 - val_loss: 8439.6914 - val_mae: 68.4423\n",
            "Epoch 41/100\n",
            "39/40 [============================>.] - ETA: 0s - loss: 344.9009 - mae: 14.1385\n",
            "Epoch 41: val_loss did not improve from 8322.33984\n",
            "40/40 [==============================] - 4s 95ms/step - loss: 344.5174 - mae: 14.1335 - val_loss: 8547.4297 - val_mae: 68.9162\n",
            "Epoch 42/100\n",
            "40/40 [==============================] - ETA: 0s - loss: 340.2703 - mae: 14.0499\n",
            "Epoch 42: val_loss did not improve from 8322.33984\n",
            "40/40 [==============================] - 4s 96ms/step - loss: 340.2703 - mae: 14.0499 - val_loss: 8335.8945 - val_mae: 68.1164\n",
            "Epoch 43/100\n",
            "40/40 [==============================] - ETA: 0s - loss: 340.9718 - mae: 14.0622\n",
            "Epoch 43: val_loss did not improve from 8322.33984\n",
            "40/40 [==============================] - 3s 68ms/step - loss: 340.9718 - mae: 14.0622 - val_loss: 8457.3115 - val_mae: 68.4418\n",
            "Epoch 44/100\n",
            "39/40 [============================>.] - ETA: 0s - loss: 391.6980 - mae: 14.7982\n",
            "Epoch 44: val_loss did not improve from 8322.33984\n",
            "40/40 [==============================] - 2s 53ms/step - loss: 391.2076 - mae: 14.7915 - val_loss: 8584.0645 - val_mae: 68.9358\n",
            "Epoch 45/100\n",
            "39/40 [============================>.] - ETA: 0s - loss: 371.5237 - mae: 14.5132\n",
            "Epoch 45: val_loss did not improve from 8322.33984\n",
            "40/40 [==============================] - 2s 56ms/step - loss: 371.4969 - mae: 14.5113 - val_loss: 8596.2969 - val_mae: 69.1254\n",
            "Epoch 46/100\n",
            "39/40 [============================>.] - ETA: 0s - loss: 358.8905 - mae: 14.3456\n",
            "Epoch 46: val_loss did not improve from 8322.33984\n",
            "40/40 [==============================] - 2s 58ms/step - loss: 358.6143 - mae: 14.3417 - val_loss: 8557.6943 - val_mae: 69.0182\n",
            "Epoch 47/100\n",
            "40/40 [==============================] - ETA: 0s - loss: 354.9840 - mae: 14.2728\n",
            "Epoch 47: val_loss did not improve from 8322.33984\n",
            "40/40 [==============================] - 3s 74ms/step - loss: 354.9840 - mae: 14.2728 - val_loss: 8362.5742 - val_mae: 68.0508\n",
            "Epoch 48/100\n",
            "39/40 [============================>.] - ETA: 0s - loss: 346.2603 - mae: 14.1418\n",
            "Epoch 48: val_loss did not improve from 8322.33984\n",
            "40/40 [==============================] - 4s 91ms/step - loss: 346.1503 - mae: 14.1401 - val_loss: 8574.6475 - val_mae: 68.9254\n",
            "Epoch 49/100\n",
            "40/40 [==============================] - ETA: 0s - loss: 349.0686 - mae: 14.1930\n",
            "Epoch 49: val_loss did not improve from 8322.33984\n",
            "40/40 [==============================] - 4s 89ms/step - loss: 349.0686 - mae: 14.1930 - val_loss: 8487.3682 - val_mae: 68.5657\n",
            "Epoch 50/100\n",
            "40/40 [==============================] - ETA: 0s - loss: 348.6008 - mae: 14.1880\n",
            "Epoch 50: val_loss did not improve from 8322.33984\n",
            "40/40 [==============================] - 2s 58ms/step - loss: 348.6008 - mae: 14.1880 - val_loss: 8413.3193 - val_mae: 68.4630\n",
            "Epoch 51/100\n",
            "39/40 [============================>.] - ETA: 0s - loss: 340.8332 - mae: 14.0570\n",
            "Epoch 51: val_loss did not improve from 8322.33984\n",
            "40/40 [==============================] - 2s 61ms/step - loss: 341.0121 - mae: 14.0605 - val_loss: 8790.5684 - val_mae: 69.7964\n",
            "Epoch 52/100\n",
            "40/40 [==============================] - ETA: 0s - loss: 336.1620 - mae: 13.9735\n",
            "Epoch 52: val_loss did not improve from 8322.33984\n",
            "40/40 [==============================] - 2s 61ms/step - loss: 336.1620 - mae: 13.9735 - val_loss: 8514.9033 - val_mae: 68.7504\n",
            "Epoch 53/100\n",
            "39/40 [============================>.] - ETA: 0s - loss: 338.2274 - mae: 14.0138\n",
            "Epoch 53: val_loss did not improve from 8322.33984\n",
            "40/40 [==============================] - 3s 63ms/step - loss: 337.8932 - mae: 14.0092 - val_loss: 8387.8184 - val_mae: 68.1674\n",
            "Epoch 54/100\n",
            "40/40 [==============================] - ETA: 0s - loss: 340.7450 - mae: 14.0621\n",
            "Epoch 54: val_loss did not improve from 8322.33984\n",
            "40/40 [==============================] - 4s 88ms/step - loss: 340.7450 - mae: 14.0621 - val_loss: 8397.1191 - val_mae: 68.2041\n",
            "Epoch 55/100\n",
            "40/40 [==============================] - ETA: 0s - loss: 373.0500 - mae: 14.5473\n",
            "Epoch 55: val_loss did not improve from 8322.33984\n",
            "40/40 [==============================] - 4s 102ms/step - loss: 373.0500 - mae: 14.5473 - val_loss: 8386.0928 - val_mae: 68.2412\n",
            "Epoch 56/100\n",
            "39/40 [============================>.] - ETA: 0s - loss: 359.4227 - mae: 14.3508\n",
            "Epoch 56: val_loss did not improve from 8322.33984\n",
            "40/40 [==============================] - 3s 69ms/step - loss: 359.6657 - mae: 14.3527 - val_loss: 8872.0547 - val_mae: 70.1611\n",
            "Epoch 57/100\n",
            "39/40 [============================>.] - ETA: 0s - loss: 344.6350 - mae: 14.1134\n",
            "Epoch 57: val_loss did not improve from 8322.33984\n",
            "40/40 [==============================] - 2s 54ms/step - loss: 344.5569 - mae: 14.1130 - val_loss: 8550.0762 - val_mae: 68.9321\n",
            "Epoch 58/100\n",
            "39/40 [============================>.] - ETA: 0s - loss: 337.5923 - mae: 13.9971\n",
            "Epoch 58: val_loss did not improve from 8322.33984\n",
            "40/40 [==============================] - 2s 58ms/step - loss: 337.4779 - mae: 13.9968 - val_loss: 8441.0029 - val_mae: 68.3206\n",
            "Epoch 59/100\n",
            "39/40 [============================>.] - ETA: 0s - loss: 334.6648 - mae: 13.9610\n",
            "Epoch 59: val_loss did not improve from 8322.33984\n",
            "40/40 [==============================] - 3s 66ms/step - loss: 335.0169 - mae: 13.9656 - val_loss: 8576.1299 - val_mae: 68.8971\n",
            "Epoch 60/100\n",
            "40/40 [==============================] - ETA: 0s - loss: 338.2011 - mae: 14.0136\n",
            "Epoch 60: val_loss did not improve from 8322.33984\n",
            "40/40 [==============================] - 4s 91ms/step - loss: 338.2011 - mae: 14.0136 - val_loss: 8357.4102 - val_mae: 68.0996\n",
            "Epoch 61/100\n",
            "40/40 [==============================] - ETA: 0s - loss: 340.4908 - mae: 14.0499\n",
            "Epoch 61: val_loss did not improve from 8322.33984\n",
            "40/40 [==============================] - 4s 101ms/step - loss: 340.4908 - mae: 14.0499 - val_loss: 8525.2656 - val_mae: 68.6560\n",
            "Epoch 62/100\n",
            "40/40 [==============================] - ETA: 0s - loss: 341.9381 - mae: 14.0690\n",
            "Epoch 62: val_loss did not improve from 8322.33984\n",
            "40/40 [==============================] - 5s 113ms/step - loss: 341.9381 - mae: 14.0690 - val_loss: 8477.9873 - val_mae: 68.5283\n",
            "Epoch 63/100\n",
            "40/40 [==============================] - ETA: 0s - loss: 334.5429 - mae: 13.9551\n",
            "Epoch 63: val_loss did not improve from 8322.33984\n",
            "40/40 [==============================] - 3s 78ms/step - loss: 334.5429 - mae: 13.9551 - val_loss: 8342.5986 - val_mae: 67.9676\n",
            "Epoch 64/100\n",
            "39/40 [============================>.] - ETA: 0s - loss: 340.0301 - mae: 14.0559\n",
            "Epoch 64: val_loss did not improve from 8322.33984\n",
            "40/40 [==============================] - 3s 65ms/step - loss: 339.8239 - mae: 14.0513 - val_loss: 8441.8750 - val_mae: 68.2924\n",
            "Epoch 65/100\n",
            "40/40 [==============================] - ETA: 0s - loss: 340.2531 - mae: 14.0514\n",
            "Epoch 65: val_loss did not improve from 8322.33984\n",
            "40/40 [==============================] - 3s 80ms/step - loss: 340.2531 - mae: 14.0514 - val_loss: 8745.4189 - val_mae: 69.7784\n",
            "Epoch 66/100\n",
            "39/40 [============================>.] - ETA: 0s - loss: 340.9449 - mae: 14.0525\n",
            "Epoch 66: val_loss did not improve from 8322.33984\n",
            "40/40 [==============================] - 4s 97ms/step - loss: 340.7270 - mae: 14.0494 - val_loss: 8466.3262 - val_mae: 68.4688\n",
            "Epoch 67/100\n",
            "39/40 [============================>.] - ETA: 0s - loss: 335.5983 - mae: 13.9723\n",
            "Epoch 67: val_loss did not improve from 8322.33984\n",
            "40/40 [==============================] - 4s 89ms/step - loss: 335.4974 - mae: 13.9689 - val_loss: 8474.7891 - val_mae: 68.5162\n",
            "Epoch 68/100\n",
            "39/40 [============================>.] - ETA: 0s - loss: 327.9139 - mae: 13.8369\n",
            "Epoch 68: val_loss did not improve from 8322.33984\n",
            "40/40 [==============================] - 3s 66ms/step - loss: 327.8051 - mae: 13.8334 - val_loss: 8841.2422 - val_mae: 70.1163\n",
            "Epoch 69/100\n",
            "39/40 [============================>.] - ETA: 0s - loss: 329.0366 - mae: 13.8644\n",
            "Epoch 69: val_loss did not improve from 8322.33984\n",
            "40/40 [==============================] - 2s 60ms/step - loss: 329.6570 - mae: 13.8741 - val_loss: 8661.0850 - val_mae: 69.3553\n",
            "Epoch 70/100\n",
            "39/40 [============================>.] - ETA: 0s - loss: 328.7401 - mae: 13.8560\n",
            "Epoch 70: val_loss improved from 8322.33984 to 8297.63184, saving model to /content/drive/MyDrive/BME/2. félév/Önálló labor 2/best_nn_resid.hdf5\n",
            "40/40 [==============================] - 3s 67ms/step - loss: 328.3132 - mae: 13.8492 - val_loss: 8297.6318 - val_mae: 67.7115\n",
            "Epoch 71/100\n",
            "40/40 [==============================] - ETA: 0s - loss: 330.2642 - mae: 13.8901\n",
            "Epoch 71: val_loss did not improve from 8297.63184\n",
            "40/40 [==============================] - 3s 71ms/step - loss: 330.2642 - mae: 13.8901 - val_loss: 8741.0938 - val_mae: 69.7396\n",
            "Epoch 72/100\n",
            "40/40 [==============================] - ETA: 0s - loss: 333.9272 - mae: 13.9444\n",
            "Epoch 72: val_loss did not improve from 8297.63184\n",
            "40/40 [==============================] - 4s 89ms/step - loss: 333.9272 - mae: 13.9444 - val_loss: 9025.4600 - val_mae: 70.6311\n",
            "Epoch 73/100\n",
            "40/40 [==============================] - ETA: 0s - loss: 334.6247 - mae: 13.9556\n",
            "Epoch 73: val_loss did not improve from 8297.63184\n",
            "40/40 [==============================] - 4s 94ms/step - loss: 334.6247 - mae: 13.9556 - val_loss: 8669.3096 - val_mae: 69.2275\n",
            "Epoch 74/100\n",
            "40/40 [==============================] - ETA: 0s - loss: 330.9842 - mae: 13.8911\n",
            "Epoch 74: val_loss did not improve from 8297.63184\n",
            "40/40 [==============================] - 2s 59ms/step - loss: 330.9842 - mae: 13.8911 - val_loss: 8684.7021 - val_mae: 69.2984\n",
            "Epoch 75/100\n",
            "39/40 [============================>.] - ETA: 0s - loss: 325.5713 - mae: 13.8112\n",
            "Epoch 75: val_loss did not improve from 8297.63184\n",
            "40/40 [==============================] - 3s 68ms/step - loss: 325.5433 - mae: 13.8103 - val_loss: 8569.5127 - val_mae: 68.8480\n",
            "Epoch 76/100\n",
            "40/40 [==============================] - ETA: 0s - loss: 334.3701 - mae: 13.9537\n",
            "Epoch 76: val_loss did not improve from 8297.63184\n",
            "40/40 [==============================] - 2s 60ms/step - loss: 334.3701 - mae: 13.9537 - val_loss: 8679.2461 - val_mae: 69.5046\n",
            "Epoch 77/100\n",
            "40/40 [==============================] - ETA: 0s - loss: 345.7330 - mae: 14.1354\n",
            "Epoch 77: val_loss did not improve from 8297.63184\n",
            "40/40 [==============================] - 3s 74ms/step - loss: 345.7330 - mae: 14.1354 - val_loss: 8510.4014 - val_mae: 68.7946\n",
            "Epoch 78/100\n",
            "40/40 [==============================] - ETA: 0s - loss: 326.7176 - mae: 13.8185\n",
            "Epoch 78: val_loss did not improve from 8297.63184\n",
            "40/40 [==============================] - 4s 92ms/step - loss: 326.7176 - mae: 13.8185 - val_loss: 8299.1543 - val_mae: 67.8017\n",
            "Epoch 79/100\n",
            "39/40 [============================>.] - ETA: 0s - loss: 329.1090 - mae: 13.8391\n",
            "Epoch 79: val_loss did not improve from 8297.63184\n",
            "40/40 [==============================] - 4s 95ms/step - loss: 328.9438 - mae: 13.8361 - val_loss: 8480.0098 - val_mae: 68.7760\n",
            "Epoch 80/100\n",
            "40/40 [==============================] - ETA: 0s - loss: 325.2970 - mae: 13.8036\n",
            "Epoch 80: val_loss did not improve from 8297.63184\n",
            "40/40 [==============================] - 2s 57ms/step - loss: 325.2970 - mae: 13.8036 - val_loss: 8324.8115 - val_mae: 68.0045\n",
            "Epoch 81/100\n",
            "39/40 [============================>.] - ETA: 0s - loss: 324.0222 - mae: 13.7748\n",
            "Epoch 81: val_loss did not improve from 8297.63184\n",
            "40/40 [==============================] - 3s 64ms/step - loss: 324.2257 - mae: 13.7799 - val_loss: 8656.1904 - val_mae: 69.2671\n",
            "Epoch 82/100\n",
            "39/40 [============================>.] - ETA: 0s - loss: 323.7374 - mae: 13.7790\n",
            "Epoch 82: val_loss did not improve from 8297.63184\n",
            "40/40 [==============================] - 2s 53ms/step - loss: 323.8582 - mae: 13.7806 - val_loss: 8354.4980 - val_mae: 68.0353\n",
            "Epoch 83/100\n",
            "39/40 [============================>.] - ETA: 0s - loss: 319.9351 - mae: 13.7090\n",
            "Epoch 83: val_loss did not improve from 8297.63184\n",
            "40/40 [==============================] - 3s 64ms/step - loss: 319.9831 - mae: 13.7101 - val_loss: 8491.2158 - val_mae: 68.6835\n",
            "Epoch 84/100\n",
            "40/40 [==============================] - ETA: 0s - loss: 324.5060 - mae: 13.7954\n",
            "Epoch 84: val_loss did not improve from 8297.63184\n",
            "40/40 [==============================] - 3s 82ms/step - loss: 324.5060 - mae: 13.7954 - val_loss: 8625.2715 - val_mae: 69.2447\n",
            "Epoch 85/100\n",
            "40/40 [==============================] - ETA: 0s - loss: 324.0475 - mae: 13.7751\n",
            "Epoch 85: val_loss did not improve from 8297.63184\n",
            "40/40 [==============================] - 4s 98ms/step - loss: 324.0475 - mae: 13.7751 - val_loss: 8316.9893 - val_mae: 67.9085\n",
            "Epoch 86/100\n",
            "39/40 [============================>.] - ETA: 0s - loss: 320.8806 - mae: 13.7020\n",
            "Epoch 86: val_loss did not improve from 8297.63184\n",
            "40/40 [==============================] - 3s 81ms/step - loss: 321.1103 - mae: 13.7065 - val_loss: 8489.8467 - val_mae: 68.8140\n",
            "Epoch 87/100\n",
            "39/40 [============================>.] - ETA: 0s - loss: 341.4734 - mae: 14.0181\n",
            "Epoch 87: val_loss improved from 8297.63184 to 8275.91992, saving model to /content/drive/MyDrive/BME/2. félév/Önálló labor 2/best_nn_resid.hdf5\n",
            "40/40 [==============================] - 3s 67ms/step - loss: 342.3578 - mae: 14.0301 - val_loss: 8275.9199 - val_mae: 67.7278\n",
            "Epoch 88/100\n",
            "39/40 [============================>.] - ETA: 0s - loss: 373.3802 - mae: 14.5077\n",
            "Epoch 88: val_loss did not improve from 8275.91992\n",
            "40/40 [==============================] - 2s 57ms/step - loss: 372.8454 - mae: 14.5018 - val_loss: 8316.0215 - val_mae: 68.0849\n",
            "Epoch 89/100\n",
            "39/40 [============================>.] - ETA: 0s - loss: 336.2227 - mae: 13.9784\n",
            "Epoch 89: val_loss improved from 8275.91992 to 8147.73242, saving model to /content/drive/MyDrive/BME/2. félév/Önálló labor 2/best_nn_resid.hdf5\n",
            "40/40 [==============================] - 2s 60ms/step - loss: 335.9960 - mae: 13.9763 - val_loss: 8147.7324 - val_mae: 67.3856\n",
            "Epoch 90/100\n",
            "40/40 [==============================] - ETA: 0s - loss: 337.3206 - mae: 14.0023\n",
            "Epoch 90: val_loss did not improve from 8147.73242\n",
            "40/40 [==============================] - 3s 80ms/step - loss: 337.3206 - mae: 14.0023 - val_loss: 8167.8613 - val_mae: 67.4463\n",
            "Epoch 91/100\n",
            "39/40 [============================>.] - ETA: 0s - loss: 329.5524 - mae: 13.8798\n",
            "Epoch 91: val_loss did not improve from 8147.73242\n",
            "40/40 [==============================] - 4s 106ms/step - loss: 329.8023 - mae: 13.8823 - val_loss: 8453.7314 - val_mae: 68.7129\n",
            "Epoch 92/100\n",
            "39/40 [============================>.] - ETA: 0s - loss: 328.3571 - mae: 13.8621\n",
            "Epoch 92: val_loss did not improve from 8147.73242\n",
            "40/40 [==============================] - 4s 88ms/step - loss: 328.2388 - mae: 13.8582 - val_loss: 8442.8320 - val_mae: 69.1088\n",
            "Epoch 93/100\n",
            "39/40 [============================>.] - ETA: 0s - loss: 330.2000 - mae: 13.8842\n",
            "Epoch 93: val_loss did not improve from 8147.73242\n",
            "40/40 [==============================] - 2s 61ms/step - loss: 330.0412 - mae: 13.8825 - val_loss: 8307.9561 - val_mae: 68.0320\n",
            "Epoch 94/100\n",
            "39/40 [============================>.] - ETA: 0s - loss: 327.5710 - mae: 13.8403\n",
            "Epoch 94: val_loss did not improve from 8147.73242\n",
            "40/40 [==============================] - 3s 64ms/step - loss: 327.7055 - mae: 13.8428 - val_loss: 8360.5557 - val_mae: 68.6256\n",
            "Epoch 95/100\n",
            "39/40 [============================>.] - ETA: 0s - loss: 324.0503 - mae: 13.7820\n",
            "Epoch 95: val_loss improved from 8147.73242 to 8095.11523, saving model to /content/drive/MyDrive/BME/2. félév/Önálló labor 2/best_nn_resid.hdf5\n",
            "40/40 [==============================] - 3s 71ms/step - loss: 324.0013 - mae: 13.7811 - val_loss: 8095.1152 - val_mae: 67.0964\n",
            "Epoch 96/100\n",
            "39/40 [============================>.] - ETA: 0s - loss: 332.1768 - mae: 13.8968\n",
            "Epoch 96: val_loss did not improve from 8095.11523\n",
            "40/40 [==============================] - 3s 75ms/step - loss: 332.3196 - mae: 13.8991 - val_loss: 8790.5859 - val_mae: 70.4912\n",
            "Epoch 97/100\n",
            "40/40 [==============================] - ETA: 0s - loss: 330.7442 - mae: 13.8767\n",
            "Epoch 97: val_loss did not improve from 8095.11523\n",
            "40/40 [==============================] - 4s 96ms/step - loss: 330.7442 - mae: 13.8767 - val_loss: 8463.8594 - val_mae: 68.8131\n",
            "Epoch 98/100\n",
            "39/40 [============================>.] - ETA: 0s - loss: 326.5198 - mae: 13.8076\n",
            "Epoch 98: val_loss did not improve from 8095.11523\n",
            "40/40 [==============================] - 3s 87ms/step - loss: 326.4356 - mae: 13.8084 - val_loss: 8613.7832 - val_mae: 69.5388\n",
            "Epoch 99/100\n",
            "39/40 [============================>.] - ETA: 0s - loss: 327.5795 - mae: 13.8419\n",
            "Epoch 99: val_loss did not improve from 8095.11523\n",
            "40/40 [==============================] - 3s 66ms/step - loss: 327.4324 - mae: 13.8415 - val_loss: 8566.9512 - val_mae: 69.5001\n",
            "Epoch 100/100\n",
            "39/40 [============================>.] - ETA: 0s - loss: 322.2003 - mae: 13.7341\n",
            "Epoch 100: val_loss did not improve from 8095.11523\n",
            "40/40 [==============================] - 2s 55ms/step - loss: 322.3677 - mae: 13.7377 - val_loss: 8428.9102 - val_mae: 68.7244\n"
          ]
        },
        {
          "output_type": "execute_result",
          "data": {
            "text/plain": [
              "<keras.src.callbacks.History at 0x7f29a2a4bac0>"
            ]
          },
          "metadata": {},
          "execution_count": 68
        }
      ]
    },
    {
      "cell_type": "code",
      "source": [
        "model_resid.save('/content/drive/MyDrive/BME/2. félév/Önálló labor 2/model_resid.keras')"
      ],
      "metadata": {
        "id": "NDpWeObBMdHy"
      },
      "execution_count": null,
      "outputs": []
    },
    {
      "cell_type": "code",
      "source": [
        "model_resid = keras.models.load_model('/content/drive/MyDrive/BME/2. félév/Önálló labor 2/model_resid.keras')"
      ],
      "metadata": {
        "id": "yiMeBG4Vq3XO"
      },
      "execution_count": 26,
      "outputs": []
    },
    {
      "cell_type": "code",
      "source": [
        "def predict_decomposition(date):\n",
        "    # Seasonal component\n",
        "    date_seasonal = date\n",
        "    while date_seasonal > pd.to_datetime('2022-12-30T23:00+01:00'):\n",
        "        date_seasonal += pd.Timedelta(hours=-168)\n",
        "    s = dc.seasonal[date_seasonal:date_seasonal+pd.Timedelta(hours=23)].to_numpy()\n",
        "\n",
        "    # Trend component\n",
        "    X = sm.add_constant(df.loc[date+pd.Timedelta(hours=-168):date+pd.Timedelta(minutes=-1), 'data'].reset_index())\n",
        "    X['date'] = X['key_0'].astype('int64') // 1e9\n",
        "    reg = sm.OLS(X['data'], X[['const', 'date']]).fit()\n",
        "    t = reg.predict([[1, date.timestamp()+3600*i] for i in range(24)])\n",
        "\n",
        "    # Residual component\n",
        "    X_resid = pd.DataFrame([df.drop(['EUR', 'USD', 'BUX', 'baseline'], axis=1).loc[date+pd.Timedelta(hours=-168):date+pd.Timedelta(minutes=-1)].unstack().to_numpy()])\n",
        "    X_resid = pd.concat([X_resid, pd.Series([date.hour], name=X_resid.columns.max()+1)], axis=1)\n",
        "    X_resid = pd.concat([X_resid, pd.DataFrame(np.array([workdays[date+pd.Timedelta(hours=-168):date+pd.Timedelta(hours=23)]]))], axis=1)\n",
        "    X_resid.columns = np.arange(0, len(X_resid.columns))\n",
        "    X_resid.index = [date]\n",
        "    r = model_resid.predict(X_resid, verbose=0)[0]\n",
        "    return s,t,r"
      ],
      "metadata": {
        "id": "5TgSKCxOmu4e"
      },
      "execution_count": 27,
      "outputs": []
    },
    {
      "cell_type": "code",
      "source": [
        "y_seasonal = []\n",
        "y_trend = []\n",
        "y_resid = []\n",
        "for date in dates_test:\n",
        "    s,t,r = predict_decomposition(date)\n",
        "    y_seasonal += [s]\n",
        "    y_trend += [t]\n",
        "    y_resid += [r]\n",
        "    print(date)\n",
        "y_seasonal = np.array(y_seasonal)\n",
        "y_trend = np.array(y_trend)\n",
        "y_resid = np.array(y_resid)"
      ],
      "metadata": {
        "id": "abA6BRPRQ3Sk"
      },
      "execution_count": null,
      "outputs": []
    },
    {
      "cell_type": "code",
      "source": [
        "pd.DataFrame(y_seasonal, index=dates_test).to_csv('/content/drive/MyDrive/BME/2. félév/Önálló labor 2/dc_pred_seasonal.csv')\n",
        "pd.DataFrame(y_trend, index=dates_test).to_csv('/content/drive/MyDrive/BME/2. félév/Önálló labor 2/dc_pred_trend.csv')\n",
        "pd.DataFrame(y_resid, index=dates_test).to_csv('/content/drive/MyDrive/BME/2. félév/Önálló labor 2/dc_pred_resid.csv')"
      ],
      "metadata": {
        "id": "1fO8iR4Jflrw"
      },
      "execution_count": null,
      "outputs": []
    },
    {
      "cell_type": "code",
      "source": [
        "y_seasonal = pd.read_csv('/content/drive/MyDrive/BME/2. félév/Önálló labor 2/dc_pred_seasonal.csv', index_col=0)\n",
        "y_trend = pd.read_csv('/content/drive/MyDrive/BME/2. félév/Önálló labor 2/dc_pred_trend.csv', index_col=0)\n",
        "y_resid = pd.read_csv('/content/drive/MyDrive/BME/2. félév/Önálló labor 2/dc_pred_resid.csv', index_col=0)"
      ],
      "metadata": {
        "id": "1mDvrNQorF9G"
      },
      "execution_count": 29,
      "outputs": []
    },
    {
      "cell_type": "code",
      "source": [
        "y_seasonal.index = dates_test\n",
        "y_trend.index = dates_test\n",
        "y_resid.index = dates_test\n",
        "y_seasonal.columns = y_seasonal.columns.astype('int64')\n",
        "y_trend.columns = y_trend.columns.astype('int64')\n",
        "y_resid.columns = y_resid.columns.astype('int64')"
      ],
      "metadata": {
        "id": "BqgwHjAAryAf"
      },
      "execution_count": 30,
      "outputs": []
    },
    {
      "cell_type": "code",
      "source": [
        "((y_seasonal + y_trend - y_test)**2).mean().mean()**0.5"
      ],
      "metadata": {
        "colab": {
          "base_uri": "https://localhost:8080/"
        },
        "id": "yVeet3yJfJfP",
        "outputId": "54887a52-f031-4c69-ba7a-ab17849508b9"
      },
      "execution_count": 31,
      "outputs": [
        {
          "output_type": "execute_result",
          "data": {
            "text/plain": [
              "38.15377150242165"
            ]
          },
          "metadata": {},
          "execution_count": 31
        }
      ]
    },
    {
      "cell_type": "code",
      "source": [
        "y_test.unstack().corr((y_seasonal + y_trend).unstack())**2"
      ],
      "metadata": {
        "colab": {
          "base_uri": "https://localhost:8080/"
        },
        "id": "28FJiTmbzm9Z",
        "outputId": "0a306773-6179-49f6-9b21-4ca7fdf9ed3a"
      },
      "execution_count": 35,
      "outputs": [
        {
          "output_type": "execute_result",
          "data": {
            "text/plain": [
              "0.3900318568524393"
            ]
          },
          "metadata": {},
          "execution_count": 35
        }
      ]
    },
    {
      "cell_type": "code",
      "source": [
        "((y_seasonal + y_trend + y_resid - y_test)**2).mean().mean()**0.5"
      ],
      "metadata": {
        "colab": {
          "base_uri": "https://localhost:8080/"
        },
        "id": "6rX-d6xOfhIp",
        "outputId": "e76281c8-c16c-435c-9e3f-de557011e9b2"
      },
      "execution_count": 33,
      "outputs": [
        {
          "output_type": "execute_result",
          "data": {
            "text/plain": [
              "37.9863551389717"
            ]
          },
          "metadata": {},
          "execution_count": 33
        }
      ]
    },
    {
      "cell_type": "code",
      "source": [
        "y_test.unstack().corr((y_seasonal + y_trend + y_resid).unstack())**2"
      ],
      "metadata": {
        "colab": {
          "base_uri": "https://localhost:8080/"
        },
        "id": "FMHJ1Hr_hNRJ",
        "outputId": "d454e2d4-7fc6-4ef8-d945-13405d048c07"
      },
      "execution_count": 34,
      "outputs": [
        {
          "output_type": "execute_result",
          "data": {
            "text/plain": [
              "0.39198772931848974"
            ]
          },
          "metadata": {},
          "execution_count": 34
        }
      ]
    },
    {
      "cell_type": "markdown",
      "source": [
        "# Neural network"
      ],
      "metadata": {
        "id": "ibRa4_mYcpNT"
      }
    },
    {
      "cell_type": "code",
      "execution_count": null,
      "metadata": {
        "id": "NE7J0KHi5dMa"
      },
      "outputs": [],
      "source": [
        "model_nn = keras.models.Sequential()\n",
        "model_nn.add(Dense(128, input_dim=len(X_train.columns), activation='relu'))\n",
        "model_nn.add(Dense(64, activation='relu'))\n",
        "model_nn.add(Dense(24, activation='linear'))\n",
        "model_nn.compile(loss='mean_squared_error', optimizer='adam', metrics=['mae'])"
      ]
    },
    {
      "cell_type": "code",
      "execution_count": null,
      "metadata": {
        "id": "9MVvilJkbfQ5"
      },
      "outputs": [],
      "source": [
        "checkpoint = keras.callbacks.ModelCheckpoint('/content/drive/MyDrive/BME/2. félév/Önálló labor 2/best_nn.hdf5', monitor='val_loss', verbose=1, save_best_only=True, save_weights_only=False, mode='auto', save_frequency=1)"
      ]
    },
    {
      "cell_type": "code",
      "source": [
        "model_nn_history = pd.DataFrame(model_nn.fit(x=X_train, y=y_train, batch_size=1000, epochs=100, validation_split=0.1, callbacks=[checkpoint]).history)"
      ],
      "metadata": {
        "colab": {
          "base_uri": "https://localhost:8080/"
        },
        "id": "bPX2KaBaciPM",
        "outputId": "bf72188d-e3c1-4d14-f700-e2e7483f94d1"
      },
      "execution_count": null,
      "outputs": [
        {
          "output_type": "stream",
          "name": "stdout",
          "text": [
            "Epoch 1/100\n",
            "38/40 [===========================>..] - ETA: 0s - loss: 17762.8555 - mae: 81.9143\n",
            "Epoch 1: val_loss improved from inf to 72527.10938, saving model to /content/drive/MyDrive/BME/2. félév/Önálló labor 2/best_nn.hdf5\n"
          ]
        },
        {
          "output_type": "stream",
          "name": "stderr",
          "text": [
            "/usr/local/lib/python3.10/dist-packages/keras/src/engine/training.py:3079: UserWarning: You are saving your model as an HDF5 file via `model.save()`. This file format is considered legacy. We recommend using instead the native Keras format, e.g. `model.save('my_model.keras')`.\n",
            "  saving_api.save_model(\n"
          ]
        },
        {
          "output_type": "stream",
          "name": "stdout",
          "text": [
            "\b\b\b\b\b\b\b\b\b\b\b\b\b\b\b\b\b\b\b\b\b\b\b\b\b\b\b\b\b\b\b\b\b\b\b\b\b\b\b\b\b\b\b\b\b\b\b\b\b\b\b\b\b\b\b\b\b\b\b\b\b\b\b\b\b\b\b\b\b\b\b\b\b\b\b\b\b\b\b\b\b\b\r40/40 [==============================] - 4s 56ms/step - loss: 17261.4355 - mae: 80.4267 - val_loss: 72527.1094 - val_mae: 221.1715\n",
            "Epoch 2/100\n",
            "37/40 [==========================>...] - ETA: 0s - loss: 2839.3206 - mae: 34.6933\n",
            "Epoch 2: val_loss improved from 72527.10938 to 41523.45703, saving model to /content/drive/MyDrive/BME/2. félév/Önálló labor 2/best_nn.hdf5\n",
            "40/40 [==============================] - 1s 20ms/step - loss: 2797.0923 - mae: 34.4457 - val_loss: 41523.4570 - val_mae: 158.0032\n",
            "Epoch 3/100\n",
            "38/40 [===========================>..] - ETA: 0s - loss: 1883.6930 - mae: 28.5080\n",
            "Epoch 3: val_loss improved from 41523.45703 to 19384.44531, saving model to /content/drive/MyDrive/BME/2. félév/Önálló labor 2/best_nn.hdf5\n",
            "40/40 [==============================] - 1s 19ms/step - loss: 1868.3456 - mae: 28.3954 - val_loss: 19384.4453 - val_mae: 104.9621\n",
            "Epoch 4/100\n",
            "40/40 [==============================] - ETA: 0s - loss: 1383.7087 - mae: 24.7195\n",
            "Epoch 4: val_loss improved from 19384.44531 to 15109.61719, saving model to /content/drive/MyDrive/BME/2. félév/Önálló labor 2/best_nn.hdf5\n",
            "40/40 [==============================] - 1s 19ms/step - loss: 1383.7087 - mae: 24.7195 - val_loss: 15109.6172 - val_mae: 92.8771\n",
            "Epoch 5/100\n",
            "40/40 [==============================] - ETA: 0s - loss: 1210.9880 - mae: 23.1246\n",
            "Epoch 5: val_loss improved from 15109.61719 to 14477.92676, saving model to /content/drive/MyDrive/BME/2. félév/Önálló labor 2/best_nn.hdf5\n",
            "40/40 [==============================] - 1s 20ms/step - loss: 1210.9880 - mae: 23.1246 - val_loss: 14477.9268 - val_mae: 90.7443\n",
            "Epoch 6/100\n",
            "37/40 [==========================>...] - ETA: 0s - loss: 1109.3232 - mae: 22.0369\n",
            "Epoch 6: val_loss did not improve from 14477.92676\n",
            "40/40 [==============================] - 1s 16ms/step - loss: 1106.5040 - mae: 22.0109 - val_loss: 14606.2236 - val_mae: 90.9928\n",
            "Epoch 7/100\n",
            "37/40 [==========================>...] - ETA: 0s - loss: 1031.9625 - mae: 21.1110\n",
            "Epoch 7: val_loss improved from 14477.92676 to 13634.67871, saving model to /content/drive/MyDrive/BME/2. félév/Önálló labor 2/best_nn.hdf5\n",
            "40/40 [==============================] - 1s 18ms/step - loss: 1028.6353 - mae: 21.0831 - val_loss: 13634.6787 - val_mae: 87.8839\n",
            "Epoch 8/100\n",
            "37/40 [==========================>...] - ETA: 0s - loss: 960.5740 - mae: 20.3551\n",
            "Epoch 8: val_loss improved from 13634.67871 to 13465.11230, saving model to /content/drive/MyDrive/BME/2. félév/Önálló labor 2/best_nn.hdf5\n",
            "40/40 [==============================] - 1s 18ms/step - loss: 962.0118 - mae: 20.3396 - val_loss: 13465.1123 - val_mae: 87.1780\n",
            "Epoch 9/100\n",
            "37/40 [==========================>...] - ETA: 0s - loss: 907.2058 - mae: 19.6645\n",
            "Epoch 9: val_loss improved from 13465.11230 to 12764.74023, saving model to /content/drive/MyDrive/BME/2. félév/Önálló labor 2/best_nn.hdf5\n",
            "40/40 [==============================] - 1s 18ms/step - loss: 902.0283 - mae: 19.6081 - val_loss: 12764.7402 - val_mae: 84.8817\n",
            "Epoch 10/100\n",
            "40/40 [==============================] - ETA: 0s - loss: 875.0957 - mae: 19.2694\n",
            "Epoch 10: val_loss did not improve from 12764.74023\n",
            "40/40 [==============================] - 1s 17ms/step - loss: 875.0957 - mae: 19.2694 - val_loss: 13062.3682 - val_mae: 85.9752\n",
            "Epoch 11/100\n",
            "40/40 [==============================] - ETA: 0s - loss: 828.5997 - mae: 18.7358\n",
            "Epoch 11: val_loss did not improve from 12764.74023\n",
            "40/40 [==============================] - 1s 17ms/step - loss: 828.5997 - mae: 18.7358 - val_loss: 12836.5312 - val_mae: 85.1729\n",
            "Epoch 12/100\n",
            "40/40 [==============================] - ETA: 0s - loss: 801.0800 - mae: 18.4314\n",
            "Epoch 12: val_loss improved from 12764.74023 to 12280.71777, saving model to /content/drive/MyDrive/BME/2. félév/Önálló labor 2/best_nn.hdf5\n",
            "40/40 [==============================] - 1s 18ms/step - loss: 801.0800 - mae: 18.4314 - val_loss: 12280.7178 - val_mae: 83.4876\n",
            "Epoch 13/100\n",
            "39/40 [============================>.] - ETA: 0s - loss: 787.5975 - mae: 18.2903\n",
            "Epoch 13: val_loss improved from 12280.71777 to 12005.31738, saving model to /content/drive/MyDrive/BME/2. félév/Önálló labor 2/best_nn.hdf5\n",
            "40/40 [==============================] - 1s 18ms/step - loss: 786.9614 - mae: 18.2805 - val_loss: 12005.3174 - val_mae: 82.4340\n",
            "Epoch 14/100\n",
            "40/40 [==============================] - ETA: 0s - loss: 773.8851 - mae: 17.9563\n",
            "Epoch 14: val_loss improved from 12005.31738 to 11635.72363, saving model to /content/drive/MyDrive/BME/2. félév/Önálló labor 2/best_nn.hdf5\n",
            "40/40 [==============================] - 1s 18ms/step - loss: 773.8851 - mae: 17.9563 - val_loss: 11635.7236 - val_mae: 81.2907\n",
            "Epoch 15/100\n",
            "39/40 [============================>.] - ETA: 0s - loss: 725.9090 - mae: 17.3763\n",
            "Epoch 15: val_loss did not improve from 11635.72363\n",
            "40/40 [==============================] - 1s 17ms/step - loss: 725.5216 - mae: 17.3727 - val_loss: 11912.0010 - val_mae: 82.3541\n",
            "Epoch 16/100\n",
            "39/40 [============================>.] - ETA: 0s - loss: 696.1052 - mae: 17.0389\n",
            "Epoch 16: val_loss improved from 11635.72363 to 11317.23047, saving model to /content/drive/MyDrive/BME/2. félév/Önálló labor 2/best_nn.hdf5\n",
            "40/40 [==============================] - 1s 23ms/step - loss: 696.9443 - mae: 17.0453 - val_loss: 11317.2305 - val_mae: 80.0278\n",
            "Epoch 17/100\n",
            "39/40 [============================>.] - ETA: 0s - loss: 688.0337 - mae: 16.9186\n",
            "Epoch 17: val_loss did not improve from 11317.23047\n",
            "40/40 [==============================] - 1s 21ms/step - loss: 688.4874 - mae: 16.9180 - val_loss: 11355.1406 - val_mae: 80.4348\n",
            "Epoch 18/100\n",
            "39/40 [============================>.] - ETA: 0s - loss: 683.6231 - mae: 16.8856\n",
            "Epoch 18: val_loss improved from 11317.23047 to 10635.81055, saving model to /content/drive/MyDrive/BME/2. félév/Önálló labor 2/best_nn.hdf5\n",
            "40/40 [==============================] - 1s 27ms/step - loss: 683.8664 - mae: 16.8870 - val_loss: 10635.8105 - val_mae: 77.9132\n",
            "Epoch 19/100\n",
            "38/40 [===========================>..] - ETA: 0s - loss: 642.8304 - mae: 16.3983\n",
            "Epoch 19: val_loss did not improve from 10635.81055\n",
            "40/40 [==============================] - 1s 21ms/step - loss: 645.3263 - mae: 16.4196 - val_loss: 10681.1201 - val_mae: 77.9177\n",
            "Epoch 20/100\n",
            "40/40 [==============================] - ETA: 0s - loss: 622.7953 - mae: 16.1329\n",
            "Epoch 20: val_loss did not improve from 10635.81055\n",
            "40/40 [==============================] - 1s 22ms/step - loss: 622.7953 - mae: 16.1329 - val_loss: 11139.3232 - val_mae: 79.8921\n",
            "Epoch 21/100\n",
            "39/40 [============================>.] - ETA: 0s - loss: 623.4969 - mae: 16.1844\n",
            "Epoch 21: val_loss did not improve from 10635.81055\n",
            "40/40 [==============================] - 1s 25ms/step - loss: 623.4358 - mae: 16.1907 - val_loss: 11113.6533 - val_mae: 79.8716\n",
            "Epoch 22/100\n",
            "39/40 [============================>.] - ETA: 0s - loss: 622.1682 - mae: 16.1865\n",
            "Epoch 22: val_loss improved from 10635.81055 to 10001.21680, saving model to /content/drive/MyDrive/BME/2. félév/Önálló labor 2/best_nn.hdf5\n",
            "40/40 [==============================] - 1s 22ms/step - loss: 621.6939 - mae: 16.1819 - val_loss: 10001.2168 - val_mae: 75.6684\n",
            "Epoch 23/100\n",
            "37/40 [==========================>...] - ETA: 0s - loss: 592.7289 - mae: 15.7142\n",
            "Epoch 23: val_loss did not improve from 10001.21680\n",
            "40/40 [==============================] - 1s 16ms/step - loss: 593.4103 - mae: 15.7181 - val_loss: 10397.3643 - val_mae: 77.2350\n",
            "Epoch 24/100\n",
            "38/40 [===========================>..] - ETA: 0s - loss: 574.6379 - mae: 15.6445\n",
            "Epoch 24: val_loss improved from 10001.21680 to 9916.71973, saving model to /content/drive/MyDrive/BME/2. félév/Önálló labor 2/best_nn.hdf5\n",
            "40/40 [==============================] - 1s 18ms/step - loss: 572.9075 - mae: 15.6314 - val_loss: 9916.7197 - val_mae: 75.3750\n",
            "Epoch 25/100\n",
            "37/40 [==========================>...] - ETA: 0s - loss: 556.8022 - mae: 15.2006\n",
            "Epoch 25: val_loss improved from 9916.71973 to 9712.48340, saving model to /content/drive/MyDrive/BME/2. félév/Önálló labor 2/best_nn.hdf5\n",
            "40/40 [==============================] - 1s 17ms/step - loss: 557.6171 - mae: 15.2284 - val_loss: 9712.4834 - val_mae: 74.6853\n",
            "Epoch 26/100\n",
            "37/40 [==========================>...] - ETA: 0s - loss: 565.8701 - mae: 15.6331\n",
            "Epoch 26: val_loss did not improve from 9712.48340\n",
            "40/40 [==============================] - 1s 17ms/step - loss: 564.6295 - mae: 15.5937 - val_loss: 10159.2930 - val_mae: 76.3712\n",
            "Epoch 27/100\n",
            "39/40 [============================>.] - ETA: 0s - loss: 536.9475 - mae: 14.9118\n",
            "Epoch 27: val_loss improved from 9712.48340 to 9496.10254, saving model to /content/drive/MyDrive/BME/2. félév/Önálló labor 2/best_nn.hdf5\n",
            "40/40 [==============================] - 1s 19ms/step - loss: 537.2745 - mae: 14.9142 - val_loss: 9496.1025 - val_mae: 73.5968\n",
            "Epoch 28/100\n",
            "37/40 [==========================>...] - ETA: 0s - loss: 525.9821 - mae: 14.8422\n",
            "Epoch 28: val_loss improved from 9496.10254 to 9117.95996, saving model to /content/drive/MyDrive/BME/2. félév/Önálló labor 2/best_nn.hdf5\n",
            "40/40 [==============================] - 1s 18ms/step - loss: 526.8741 - mae: 14.8576 - val_loss: 9117.9600 - val_mae: 72.2451\n",
            "Epoch 29/100\n",
            "37/40 [==========================>...] - ETA: 0s - loss: 523.6571 - mae: 14.9393\n",
            "Epoch 29: val_loss did not improve from 9117.95996\n",
            "40/40 [==============================] - 1s 17ms/step - loss: 521.7730 - mae: 14.9087 - val_loss: 9516.8770 - val_mae: 73.8793\n",
            "Epoch 30/100\n",
            "37/40 [==========================>...] - ETA: 0s - loss: 526.4546 - mae: 14.7874\n",
            "Epoch 30: val_loss improved from 9117.95996 to 9089.99316, saving model to /content/drive/MyDrive/BME/2. félév/Önálló labor 2/best_nn.hdf5\n",
            "40/40 [==============================] - 1s 19ms/step - loss: 525.3939 - mae: 14.7810 - val_loss: 9089.9932 - val_mae: 72.2457\n",
            "Epoch 31/100\n",
            "40/40 [==============================] - ETA: 0s - loss: 508.9632 - mae: 14.8205\n",
            "Epoch 31: val_loss improved from 9089.99316 to 8756.85254, saving model to /content/drive/MyDrive/BME/2. félév/Önálló labor 2/best_nn.hdf5\n",
            "40/40 [==============================] - 1s 19ms/step - loss: 508.9632 - mae: 14.8205 - val_loss: 8756.8525 - val_mae: 70.6469\n",
            "Epoch 32/100\n",
            "36/40 [==========================>...] - ETA: 0s - loss: 490.3691 - mae: 14.4022\n",
            "Epoch 32: val_loss did not improve from 8756.85254\n",
            "40/40 [==============================] - 1s 17ms/step - loss: 493.7131 - mae: 14.4230 - val_loss: 9182.5625 - val_mae: 72.5755\n",
            "Epoch 33/100\n",
            "40/40 [==============================] - ETA: 0s - loss: 503.3781 - mae: 14.5666\n",
            "Epoch 33: val_loss improved from 8756.85254 to 8675.95898, saving model to /content/drive/MyDrive/BME/2. félév/Önálló labor 2/best_nn.hdf5\n",
            "40/40 [==============================] - 1s 18ms/step - loss: 503.3781 - mae: 14.5666 - val_loss: 8675.9590 - val_mae: 70.5862\n",
            "Epoch 34/100\n",
            "39/40 [============================>.] - ETA: 0s - loss: 495.3027 - mae: 14.3375\n",
            "Epoch 34: val_loss improved from 8675.95898 to 8423.43457, saving model to /content/drive/MyDrive/BME/2. félév/Önálló labor 2/best_nn.hdf5\n",
            "40/40 [==============================] - 1s 18ms/step - loss: 494.8903 - mae: 14.3379 - val_loss: 8423.4346 - val_mae: 69.2781\n",
            "Epoch 35/100\n",
            "40/40 [==============================] - ETA: 0s - loss: 516.9713 - mae: 14.6538\n",
            "Epoch 35: val_loss did not improve from 8423.43457\n",
            "40/40 [==============================] - 1s 17ms/step - loss: 516.9713 - mae: 14.6538 - val_loss: 8589.7637 - val_mae: 70.2283\n",
            "Epoch 36/100\n",
            "40/40 [==============================] - ETA: 0s - loss: 490.2285 - mae: 14.3832\n",
            "Epoch 36: val_loss improved from 8423.43457 to 8276.08594, saving model to /content/drive/MyDrive/BME/2. félév/Önálló labor 2/best_nn.hdf5\n",
            "40/40 [==============================] - 1s 20ms/step - loss: 490.2285 - mae: 14.3832 - val_loss: 8276.0859 - val_mae: 68.7823\n",
            "Epoch 37/100\n",
            "38/40 [===========================>..] - ETA: 0s - loss: 465.5153 - mae: 14.0185\n",
            "Epoch 37: val_loss improved from 8276.08594 to 7874.94873, saving model to /content/drive/MyDrive/BME/2. félév/Önálló labor 2/best_nn.hdf5\n",
            "40/40 [==============================] - 1s 23ms/step - loss: 464.4534 - mae: 14.0039 - val_loss: 7874.9487 - val_mae: 66.9406\n",
            "Epoch 38/100\n",
            "38/40 [===========================>..] - ETA: 0s - loss: 491.5275 - mae: 14.4602\n",
            "Epoch 38: val_loss did not improve from 7874.94873\n",
            "40/40 [==============================] - 1s 24ms/step - loss: 490.9463 - mae: 14.4609 - val_loss: 7955.1597 - val_mae: 67.3944\n",
            "Epoch 39/100\n",
            "37/40 [==========================>...] - ETA: 0s - loss: 474.9132 - mae: 14.1797\n",
            "Epoch 39: val_loss did not improve from 7874.94873\n",
            "40/40 [==============================] - 1s 24ms/step - loss: 473.8437 - mae: 14.1422 - val_loss: 8450.6973 - val_mae: 69.6689\n",
            "Epoch 40/100\n",
            "37/40 [==========================>...] - ETA: 0s - loss: 432.6189 - mae: 13.3779\n",
            "Epoch 40: val_loss did not improve from 7874.94873\n",
            "40/40 [==============================] - 1s 23ms/step - loss: 431.8038 - mae: 13.3717 - val_loss: 8093.9224 - val_mae: 68.0998\n",
            "Epoch 41/100\n",
            "39/40 [============================>.] - ETA: 0s - loss: 447.4628 - mae: 13.8364\n",
            "Epoch 41: val_loss did not improve from 7874.94873\n",
            "40/40 [==============================] - 1s 24ms/step - loss: 447.0259 - mae: 13.8322 - val_loss: 8090.3691 - val_mae: 68.1326\n",
            "Epoch 42/100\n",
            "37/40 [==========================>...] - ETA: 0s - loss: 454.9743 - mae: 13.9935\n",
            "Epoch 42: val_loss improved from 7874.94873 to 7859.71338, saving model to /content/drive/MyDrive/BME/2. félév/Önálló labor 2/best_nn.hdf5\n",
            "40/40 [==============================] - 1s 22ms/step - loss: 455.1751 - mae: 13.9947 - val_loss: 7859.7134 - val_mae: 67.0007\n",
            "Epoch 43/100\n",
            "39/40 [============================>.] - ETA: 0s - loss: 444.6448 - mae: 13.7013\n",
            "Epoch 43: val_loss improved from 7859.71338 to 7790.05957, saving model to /content/drive/MyDrive/BME/2. félév/Önálló labor 2/best_nn.hdf5\n",
            "40/40 [==============================] - 1s 20ms/step - loss: 444.6891 - mae: 13.7043 - val_loss: 7790.0596 - val_mae: 66.5631\n",
            "Epoch 44/100\n",
            "39/40 [============================>.] - ETA: 0s - loss: 428.7697 - mae: 13.4688\n",
            "Epoch 44: val_loss improved from 7790.05957 to 7739.57422, saving model to /content/drive/MyDrive/BME/2. félév/Önálló labor 2/best_nn.hdf5\n",
            "40/40 [==============================] - 1s 19ms/step - loss: 428.9142 - mae: 13.4677 - val_loss: 7739.5742 - val_mae: 66.4765\n",
            "Epoch 45/100\n",
            "38/40 [===========================>..] - ETA: 0s - loss: 409.7543 - mae: 13.0529\n",
            "Epoch 45: val_loss improved from 7739.57422 to 7586.73242, saving model to /content/drive/MyDrive/BME/2. félév/Önálló labor 2/best_nn.hdf5\n",
            "40/40 [==============================] - 1s 19ms/step - loss: 409.2335 - mae: 13.0423 - val_loss: 7586.7324 - val_mae: 65.7273\n",
            "Epoch 46/100\n",
            "38/40 [===========================>..] - ETA: 0s - loss: 429.2981 - mae: 13.5126\n",
            "Epoch 46: val_loss did not improve from 7586.73242\n",
            "40/40 [==============================] - 1s 18ms/step - loss: 428.8494 - mae: 13.5030 - val_loss: 7679.0244 - val_mae: 66.2103\n",
            "Epoch 47/100\n",
            "37/40 [==========================>...] - ETA: 0s - loss: 401.9227 - mae: 12.9462\n",
            "Epoch 47: val_loss did not improve from 7586.73242\n",
            "40/40 [==============================] - 1s 17ms/step - loss: 402.5025 - mae: 12.9736 - val_loss: 7718.8237 - val_mae: 66.5550\n",
            "Epoch 48/100\n",
            "39/40 [============================>.] - ETA: 0s - loss: 406.2621 - mae: 13.1549\n",
            "Epoch 48: val_loss improved from 7586.73242 to 7553.34570, saving model to /content/drive/MyDrive/BME/2. félév/Önálló labor 2/best_nn.hdf5\n",
            "40/40 [==============================] - 1s 18ms/step - loss: 406.3994 - mae: 13.1540 - val_loss: 7553.3457 - val_mae: 65.7865\n",
            "Epoch 49/100\n",
            "38/40 [===========================>..] - ETA: 0s - loss: 393.7561 - mae: 12.8092\n",
            "Epoch 49: val_loss improved from 7553.34570 to 7537.21191, saving model to /content/drive/MyDrive/BME/2. félév/Önálló labor 2/best_nn.hdf5\n",
            "40/40 [==============================] - 1s 19ms/step - loss: 396.0413 - mae: 12.8639 - val_loss: 7537.2119 - val_mae: 65.5969\n",
            "Epoch 50/100\n",
            "40/40 [==============================] - ETA: 0s - loss: 397.8776 - mae: 12.9514\n",
            "Epoch 50: val_loss improved from 7537.21191 to 7016.85303, saving model to /content/drive/MyDrive/BME/2. félév/Önálló labor 2/best_nn.hdf5\n",
            "40/40 [==============================] - 1s 19ms/step - loss: 397.8776 - mae: 12.9514 - val_loss: 7016.8530 - val_mae: 63.2013\n",
            "Epoch 51/100\n",
            "38/40 [===========================>..] - ETA: 0s - loss: 398.6684 - mae: 13.0181\n",
            "Epoch 51: val_loss did not improve from 7016.85303\n",
            "40/40 [==============================] - 1s 18ms/step - loss: 399.0571 - mae: 13.0085 - val_loss: 7160.8320 - val_mae: 63.8177\n",
            "Epoch 52/100\n",
            "39/40 [============================>.] - ETA: 0s - loss: 406.4191 - mae: 12.9192\n",
            "Epoch 52: val_loss did not improve from 7016.85303\n",
            "40/40 [==============================] - 1s 17ms/step - loss: 406.4211 - mae: 12.9211 - val_loss: 7489.1709 - val_mae: 65.4932\n",
            "Epoch 53/100\n",
            "37/40 [==========================>...] - ETA: 0s - loss: 376.6618 - mae: 12.4757\n",
            "Epoch 53: val_loss did not improve from 7016.85303\n",
            "40/40 [==============================] - 1s 17ms/step - loss: 376.5054 - mae: 12.4593 - val_loss: 7144.4922 - val_mae: 63.8869\n",
            "Epoch 54/100\n",
            "37/40 [==========================>...] - ETA: 0s - loss: 386.0604 - mae: 12.8675\n",
            "Epoch 54: val_loss did not improve from 7016.85303\n",
            "40/40 [==============================] - 1s 17ms/step - loss: 386.1247 - mae: 12.8722 - val_loss: 7194.7441 - val_mae: 64.0417\n",
            "Epoch 55/100\n",
            "39/40 [============================>.] - ETA: 0s - loss: 393.2017 - mae: 12.9916\n",
            "Epoch 55: val_loss did not improve from 7016.85303\n",
            "40/40 [==============================] - 1s 17ms/step - loss: 392.4474 - mae: 12.9770 - val_loss: 7543.1846 - val_mae: 65.7345\n",
            "Epoch 56/100\n",
            "37/40 [==========================>...] - ETA: 0s - loss: 392.8048 - mae: 12.8891\n",
            "Epoch 56: val_loss improved from 7016.85303 to 6845.50195, saving model to /content/drive/MyDrive/BME/2. félév/Önálló labor 2/best_nn.hdf5\n",
            "40/40 [==============================] - 1s 18ms/step - loss: 390.7750 - mae: 12.8580 - val_loss: 6845.5020 - val_mae: 62.3256\n",
            "Epoch 57/100\n",
            "39/40 [============================>.] - ETA: 0s - loss: 379.7342 - mae: 12.5897\n",
            "Epoch 57: val_loss did not improve from 6845.50195\n",
            "40/40 [==============================] - 1s 22ms/step - loss: 380.2658 - mae: 12.5949 - val_loss: 7547.0347 - val_mae: 65.8838\n",
            "Epoch 58/100\n",
            "38/40 [===========================>..] - ETA: 0s - loss: 367.6415 - mae: 12.3152\n",
            "Epoch 58: val_loss did not improve from 6845.50195\n",
            "40/40 [==============================] - 1s 23ms/step - loss: 366.6190 - mae: 12.3057 - val_loss: 7046.6846 - val_mae: 63.4308\n",
            "Epoch 59/100\n",
            "40/40 [==============================] - ETA: 0s - loss: 396.9844 - mae: 12.9593\n",
            "Epoch 59: val_loss improved from 6845.50195 to 6656.65918, saving model to /content/drive/MyDrive/BME/2. félév/Önálló labor 2/best_nn.hdf5\n",
            "40/40 [==============================] - 1s 22ms/step - loss: 396.9844 - mae: 12.9593 - val_loss: 6656.6592 - val_mae: 61.5526\n",
            "Epoch 60/100\n",
            "38/40 [===========================>..] - ETA: 0s - loss: 375.7747 - mae: 12.8182\n",
            "Epoch 60: val_loss did not improve from 6656.65918\n",
            "40/40 [==============================] - 1s 23ms/step - loss: 373.7299 - mae: 12.7790 - val_loss: 7330.6011 - val_mae: 64.8955\n",
            "Epoch 61/100\n",
            "40/40 [==============================] - ETA: 0s - loss: 360.9594 - mae: 12.4765\n",
            "Epoch 61: val_loss did not improve from 6656.65918\n",
            "40/40 [==============================] - 1s 22ms/step - loss: 360.9594 - mae: 12.4765 - val_loss: 7283.4663 - val_mae: 64.4494\n",
            "Epoch 62/100\n",
            "39/40 [============================>.] - ETA: 0s - loss: 375.6890 - mae: 12.6871\n",
            "Epoch 62: val_loss did not improve from 6656.65918\n",
            "40/40 [==============================] - 1s 23ms/step - loss: 374.9373 - mae: 12.6766 - val_loss: 7084.6367 - val_mae: 63.3809\n",
            "Epoch 63/100\n",
            "39/40 [============================>.] - ETA: 0s - loss: 364.2118 - mae: 12.2401\n",
            "Epoch 63: val_loss improved from 6656.65918 to 6641.15088, saving model to /content/drive/MyDrive/BME/2. félév/Önálló labor 2/best_nn.hdf5\n",
            "40/40 [==============================] - 1s 23ms/step - loss: 364.4756 - mae: 12.2479 - val_loss: 6641.1509 - val_mae: 61.3565\n",
            "Epoch 64/100\n",
            "37/40 [==========================>...] - ETA: 0s - loss: 378.1838 - mae: 12.8221\n",
            "Epoch 64: val_loss did not improve from 6641.15088\n",
            "40/40 [==============================] - 1s 17ms/step - loss: 377.5367 - mae: 12.7889 - val_loss: 6647.7700 - val_mae: 61.5078\n",
            "Epoch 65/100\n",
            "39/40 [============================>.] - ETA: 0s - loss: 362.8646 - mae: 12.3416\n",
            "Epoch 65: val_loss did not improve from 6641.15088\n",
            "40/40 [==============================] - 1s 18ms/step - loss: 362.7823 - mae: 12.3340 - val_loss: 6942.1094 - val_mae: 62.7109\n",
            "Epoch 66/100\n",
            "40/40 [==============================] - ETA: 0s - loss: 353.7238 - mae: 12.2525\n",
            "Epoch 66: val_loss did not improve from 6641.15088\n",
            "40/40 [==============================] - 1s 18ms/step - loss: 353.7238 - mae: 12.2525 - val_loss: 7035.5977 - val_mae: 63.6089\n",
            "Epoch 67/100\n",
            "37/40 [==========================>...] - ETA: 0s - loss: 381.2939 - mae: 12.9201\n",
            "Epoch 67: val_loss improved from 6641.15088 to 6488.31885, saving model to /content/drive/MyDrive/BME/2. félév/Önálló labor 2/best_nn.hdf5\n",
            "40/40 [==============================] - 1s 18ms/step - loss: 379.9549 - mae: 12.8910 - val_loss: 6488.3188 - val_mae: 60.7287\n",
            "Epoch 68/100\n",
            "38/40 [===========================>..] - ETA: 0s - loss: 357.9308 - mae: 12.3681\n",
            "Epoch 68: val_loss did not improve from 6488.31885\n",
            "40/40 [==============================] - 1s 17ms/step - loss: 357.4050 - mae: 12.3529 - val_loss: 6589.2583 - val_mae: 61.2854\n",
            "Epoch 69/100\n",
            "37/40 [==========================>...] - ETA: 0s - loss: 332.0484 - mae: 11.8389\n",
            "Epoch 69: val_loss did not improve from 6488.31885\n",
            "40/40 [==============================] - 1s 17ms/step - loss: 332.8895 - mae: 11.8436 - val_loss: 6622.6733 - val_mae: 61.3704\n",
            "Epoch 70/100\n",
            "40/40 [==============================] - ETA: 0s - loss: 331.0709 - mae: 11.6656\n",
            "Epoch 70: val_loss did not improve from 6488.31885\n",
            "40/40 [==============================] - 1s 17ms/step - loss: 331.0709 - mae: 11.6656 - val_loss: 6629.2305 - val_mae: 61.2487\n",
            "Epoch 71/100\n",
            "39/40 [============================>.] - ETA: 0s - loss: 335.6351 - mae: 11.9877\n",
            "Epoch 71: val_loss improved from 6488.31885 to 6436.33301, saving model to /content/drive/MyDrive/BME/2. félév/Önálló labor 2/best_nn.hdf5\n",
            "40/40 [==============================] - 1s 19ms/step - loss: 335.4720 - mae: 11.9850 - val_loss: 6436.3330 - val_mae: 60.5899\n",
            "Epoch 72/100\n",
            "39/40 [============================>.] - ETA: 0s - loss: 336.1642 - mae: 11.9609\n",
            "Epoch 72: val_loss did not improve from 6436.33301\n",
            "40/40 [==============================] - 1s 19ms/step - loss: 336.1228 - mae: 11.9599 - val_loss: 7067.3774 - val_mae: 63.8216\n",
            "Epoch 73/100\n",
            "37/40 [==========================>...] - ETA: 0s - loss: 340.8293 - mae: 12.1228\n",
            "Epoch 73: val_loss did not improve from 6436.33301\n",
            "40/40 [==============================] - 1s 17ms/step - loss: 341.3116 - mae: 12.1489 - val_loss: 6483.1104 - val_mae: 60.6557\n",
            "Epoch 74/100\n",
            "40/40 [==============================] - ETA: 0s - loss: 337.6872 - mae: 12.1877\n",
            "Epoch 74: val_loss improved from 6436.33301 to 6426.33838, saving model to /content/drive/MyDrive/BME/2. félév/Önálló labor 2/best_nn.hdf5\n",
            "40/40 [==============================] - 1s 21ms/step - loss: 337.6872 - mae: 12.1877 - val_loss: 6426.3384 - val_mae: 60.3708\n",
            "Epoch 75/100\n",
            "39/40 [============================>.] - ETA: 0s - loss: 336.3818 - mae: 12.0383\n",
            "Epoch 75: val_loss did not improve from 6426.33838\n",
            "40/40 [==============================] - 1s 18ms/step - loss: 336.8772 - mae: 12.0411 - val_loss: 6716.3501 - val_mae: 61.6676\n",
            "Epoch 76/100\n",
            "39/40 [============================>.] - ETA: 0s - loss: 325.3948 - mae: 11.6981\n",
            "Epoch 76: val_loss improved from 6426.33838 to 6410.43652, saving model to /content/drive/MyDrive/BME/2. félév/Önálló labor 2/best_nn.hdf5\n",
            "40/40 [==============================] - 1s 19ms/step - loss: 325.3006 - mae: 11.7013 - val_loss: 6410.4365 - val_mae: 60.2929\n",
            "Epoch 77/100\n",
            "40/40 [==============================] - ETA: 0s - loss: 332.9980 - mae: 11.9619\n",
            "Epoch 77: val_loss did not improve from 6410.43652\n",
            "40/40 [==============================] - 1s 20ms/step - loss: 332.9980 - mae: 11.9619 - val_loss: 6469.7461 - val_mae: 60.6366\n",
            "Epoch 78/100\n",
            "38/40 [===========================>..] - ETA: 0s - loss: 320.7502 - mae: 11.6257\n",
            "Epoch 78: val_loss did not improve from 6410.43652\n",
            "40/40 [==============================] - 1s 24ms/step - loss: 320.8559 - mae: 11.6283 - val_loss: 6430.6611 - val_mae: 60.4084\n",
            "Epoch 79/100\n",
            "39/40 [============================>.] - ETA: 0s - loss: 337.7119 - mae: 12.0772\n",
            "Epoch 79: val_loss improved from 6410.43652 to 6403.60205, saving model to /content/drive/MyDrive/BME/2. félév/Önálló labor 2/best_nn.hdf5\n",
            "40/40 [==============================] - 1s 23ms/step - loss: 338.0486 - mae: 12.0771 - val_loss: 6403.6021 - val_mae: 60.2208\n",
            "Epoch 80/100\n",
            "39/40 [============================>.] - ETA: 0s - loss: 327.8031 - mae: 11.8658\n",
            "Epoch 80: val_loss did not improve from 6403.60205\n",
            "40/40 [==============================] - 1s 22ms/step - loss: 328.0607 - mae: 11.8709 - val_loss: 6506.3003 - val_mae: 60.6413\n",
            "Epoch 81/100\n",
            "37/40 [==========================>...] - ETA: 0s - loss: 348.5865 - mae: 11.8637\n",
            "Epoch 81: val_loss did not improve from 6403.60205\n",
            "40/40 [==============================] - 1s 23ms/step - loss: 346.2855 - mae: 11.8409 - val_loss: 6488.1328 - val_mae: 60.6857\n",
            "Epoch 82/100\n",
            "37/40 [==========================>...] - ETA: 0s - loss: 321.4041 - mae: 11.8229\n",
            "Epoch 82: val_loss did not improve from 6403.60205\n",
            "40/40 [==============================] - 1s 22ms/step - loss: 320.8937 - mae: 11.8151 - val_loss: 6765.3354 - val_mae: 61.8290\n",
            "Epoch 83/100\n",
            "39/40 [============================>.] - ETA: 0s - loss: 342.8958 - mae: 11.9964\n",
            "Epoch 83: val_loss did not improve from 6403.60205\n",
            "40/40 [==============================] - 1s 21ms/step - loss: 342.9618 - mae: 11.9996 - val_loss: 6629.2354 - val_mae: 61.3743\n",
            "Epoch 84/100\n",
            "39/40 [============================>.] - ETA: 0s - loss: 323.6801 - mae: 11.6346\n",
            "Epoch 84: val_loss did not improve from 6403.60205\n",
            "40/40 [==============================] - 1s 20ms/step - loss: 323.4200 - mae: 11.6313 - val_loss: 6475.1392 - val_mae: 60.6124\n",
            "Epoch 85/100\n",
            "38/40 [===========================>..] - ETA: 0s - loss: 328.1612 - mae: 11.8700\n",
            "Epoch 85: val_loss did not improve from 6403.60205\n",
            "40/40 [==============================] - 1s 18ms/step - loss: 327.3068 - mae: 11.8554 - val_loss: 6844.1484 - val_mae: 62.1913\n",
            "Epoch 86/100\n",
            "40/40 [==============================] - ETA: 0s - loss: 323.2331 - mae: 11.7635\n",
            "Epoch 86: val_loss did not improve from 6403.60205\n",
            "40/40 [==============================] - 1s 17ms/step - loss: 323.2331 - mae: 11.7635 - val_loss: 6448.3931 - val_mae: 60.4814\n",
            "Epoch 87/100\n",
            "37/40 [==========================>...] - ETA: 0s - loss: 327.4699 - mae: 11.8504\n",
            "Epoch 87: val_loss did not improve from 6403.60205\n",
            "40/40 [==============================] - 1s 17ms/step - loss: 329.6889 - mae: 11.8604 - val_loss: 6459.8862 - val_mae: 60.7105\n",
            "Epoch 88/100\n",
            "39/40 [============================>.] - ETA: 0s - loss: 310.0509 - mae: 11.2916\n",
            "Epoch 88: val_loss did not improve from 6403.60205\n",
            "40/40 [==============================] - 1s 17ms/step - loss: 310.4168 - mae: 11.3003 - val_loss: 6405.1333 - val_mae: 60.2214\n",
            "Epoch 89/100\n",
            "37/40 [==========================>...] - ETA: 0s - loss: 334.2518 - mae: 12.0715\n",
            "Epoch 89: val_loss did not improve from 6403.60205\n",
            "40/40 [==============================] - 1s 17ms/step - loss: 334.8340 - mae: 12.0482 - val_loss: 6478.8247 - val_mae: 60.7257\n",
            "Epoch 90/100\n",
            "40/40 [==============================] - ETA: 0s - loss: 302.5017 - mae: 11.2350\n",
            "Epoch 90: val_loss did not improve from 6403.60205\n",
            "40/40 [==============================] - 1s 17ms/step - loss: 302.5017 - mae: 11.2350 - val_loss: 6408.1675 - val_mae: 60.5661\n",
            "Epoch 91/100\n",
            "40/40 [==============================] - ETA: 0s - loss: 315.8460 - mae: 11.6209\n",
            "Epoch 91: val_loss improved from 6403.60205 to 6389.74902, saving model to /content/drive/MyDrive/BME/2. félév/Önálló labor 2/best_nn.hdf5\n",
            "40/40 [==============================] - 1s 18ms/step - loss: 315.8460 - mae: 11.6209 - val_loss: 6389.7490 - val_mae: 60.3102\n",
            "Epoch 92/100\n",
            "39/40 [============================>.] - ETA: 0s - loss: 315.4492 - mae: 11.8237\n",
            "Epoch 92: val_loss did not improve from 6389.74902\n",
            "40/40 [==============================] - 1s 18ms/step - loss: 315.5049 - mae: 11.8233 - val_loss: 6529.0254 - val_mae: 60.6912\n",
            "Epoch 93/100\n",
            "40/40 [==============================] - ETA: 0s - loss: 297.1729 - mae: 11.1513\n",
            "Epoch 93: val_loss did not improve from 6389.74902\n",
            "40/40 [==============================] - 1s 18ms/step - loss: 297.1729 - mae: 11.1513 - val_loss: 6415.3076 - val_mae: 60.3924\n",
            "Epoch 94/100\n",
            "39/40 [============================>.] - ETA: 0s - loss: 307.3438 - mae: 11.4128\n",
            "Epoch 94: val_loss did not improve from 6389.74902\n",
            "40/40 [==============================] - 1s 18ms/step - loss: 307.5369 - mae: 11.4123 - val_loss: 6508.9346 - val_mae: 60.7545\n",
            "Epoch 95/100\n",
            "38/40 [===========================>..] - ETA: 0s - loss: 307.9019 - mae: 11.5771\n",
            "Epoch 95: val_loss did not improve from 6389.74902\n",
            "40/40 [==============================] - 1s 18ms/step - loss: 308.6170 - mae: 11.5851 - val_loss: 6519.0547 - val_mae: 60.8975\n",
            "Epoch 96/100\n",
            "40/40 [==============================] - ETA: 0s - loss: 288.1193 - mae: 11.0074\n",
            "Epoch 96: val_loss did not improve from 6389.74902\n",
            "40/40 [==============================] - 1s 17ms/step - loss: 288.1193 - mae: 11.0074 - val_loss: 6563.7646 - val_mae: 60.7315\n",
            "Epoch 97/100\n",
            "40/40 [==============================] - ETA: 0s - loss: 283.4798 - mae: 11.0217\n",
            "Epoch 97: val_loss did not improve from 6389.74902\n",
            "40/40 [==============================] - 1s 17ms/step - loss: 283.4798 - mae: 11.0217 - val_loss: 6531.1328 - val_mae: 60.8487\n",
            "Epoch 98/100\n",
            "40/40 [==============================] - ETA: 0s - loss: 298.4974 - mae: 11.5301\n",
            "Epoch 98: val_loss did not improve from 6389.74902\n",
            "40/40 [==============================] - 1s 19ms/step - loss: 298.4974 - mae: 11.5301 - val_loss: 6467.7461 - val_mae: 60.4926\n",
            "Epoch 99/100\n",
            "39/40 [============================>.] - ETA: 0s - loss: 305.4546 - mae: 11.6019\n",
            "Epoch 99: val_loss did not improve from 6389.74902\n",
            "40/40 [==============================] - 1s 22ms/step - loss: 305.5420 - mae: 11.6011 - val_loss: 6585.1099 - val_mae: 61.0759\n",
            "Epoch 100/100\n",
            "38/40 [===========================>..] - ETA: 0s - loss: 305.5484 - mae: 11.7366\n",
            "Epoch 100: val_loss did not improve from 6389.74902\n",
            "40/40 [==============================] - 1s 20ms/step - loss: 305.6658 - mae: 11.7556 - val_loss: 6796.0039 - val_mae: 62.3193\n"
          ]
        }
      ]
    },
    {
      "cell_type": "code",
      "source": [
        "model_nn_history[['loss', 'val_loss']].plot(figsize=(8,4))\n",
        "plt.yscale('log')\n",
        "plt.ylabel('loss')\n",
        "plt.xlabel('epoch')"
      ],
      "metadata": {
        "colab": {
          "base_uri": "https://localhost:8080/",
          "height": 406
        },
        "id": "3GF-zKcPjWZr",
        "outputId": "c909d106-8e0d-473f-913d-0545450cc0d3"
      },
      "execution_count": null,
      "outputs": [
        {
          "output_type": "execute_result",
          "data": {
            "text/plain": [
              "Text(0.5, 0, 'epoch')"
            ]
          },
          "metadata": {},
          "execution_count": 58
        },
        {
          "output_type": "display_data",
          "data": {
            "text/plain": [
              "<Figure size 800x400 with 1 Axes>"
            ],
            "image/png": "[encoded data removed]"
          },
          "metadata": {}
        }
      ]
    },
    {
      "cell_type": "code",
      "source": [
        "model_nn.save('/content/drive/MyDrive/BME/2. félév/Önálló labor 2/model_nn_final.keras')"
      ],
      "metadata": {
        "id": "rUL85Ebuejfx"
      },
      "execution_count": null,
      "outputs": []
    },
    {
      "cell_type": "code",
      "source": [
        "model_nn = keras.models.load_model('/content/drive/MyDrive/BME/2. félév/Önálló labor 2/model_nn_final.keras')"
      ],
      "metadata": {
        "id": "ee98rd4qDqZg"
      },
      "execution_count": 36,
      "outputs": []
    },
    {
      "cell_type": "code",
      "execution_count": 37,
      "metadata": {
        "colab": {
          "base_uri": "https://localhost:8080/"
        },
        "id": "kUUFLq3zyLmT",
        "outputId": "478115f1-8aed-4cae-ca7e-8eb10b929c63"
      },
      "outputs": [
        {
          "output_type": "stream",
          "name": "stdout",
          "text": [
            "228/228 [==============================] - 4s 2ms/step\n"
          ]
        }
      ],
      "source": [
        "y_nn = model_nn.predict(X_test)"
      ]
    },
    {
      "cell_type": "code",
      "execution_count": 38,
      "metadata": {
        "colab": {
          "base_uri": "https://localhost:8080/"
        },
        "id": "wK0JP8MtyUpR",
        "outputId": "2b5b28df-3d50-419d-d80e-f6fcc08d9b4e"
      },
      "outputs": [
        {
          "output_type": "execute_result",
          "data": {
            "text/plain": [
              "29.357366970728947"
            ]
          },
          "metadata": {},
          "execution_count": 38
        }
      ],
      "source": [
        "((y_nn - y_test)**2).mean().mean()**0.5"
      ]
    },
    {
      "cell_type": "code",
      "execution_count": 43,
      "metadata": {
        "colab": {
          "base_uri": "https://localhost:8080/"
        },
        "id": "_ve4jle6yiei",
        "outputId": "8d7e97f9-7e02-4870-d5d9-ebcde252bedb"
      },
      "outputs": [
        {
          "output_type": "execute_result",
          "data": {
            "text/plain": [
              "0.6155817512966006"
            ]
          },
          "metadata": {},
          "execution_count": 43
        }
      ],
      "source": [
        "np.corrcoef(y_test.to_numpy().flatten(), y_nn.flatten())[0,1]**2"
      ]
    },
    {
      "cell_type": "code",
      "source": [
        "plt.figure(figsize=(8,4))\n",
        "plt.scatter(y_test, y_nn)\n",
        "plt.xlabel('y')\n",
        "plt.ylabel('y_pred')"
      ],
      "metadata": {
        "colab": {
          "base_uri": "https://localhost:8080/",
          "height": 406
        },
        "id": "2qIE2rbYgGc8",
        "outputId": "36caac39-932e-4e9f-eabb-deaab17c8ef8"
      },
      "execution_count": 44,
      "outputs": [
        {
          "output_type": "execute_result",
          "data": {
            "text/plain": [
              "Text(0, 0.5, 'y_pred')"
            ]
          },
          "metadata": {},
          "execution_count": 44
        },
        {
          "output_type": "display_data",
          "data": {
            "text/plain": [
              "<Figure size 800x400 with 1 Axes>"
            ],
            "image/png": "[encoded data removed]"
          },
          "metadata": {}
        }
      ]
    },
    {
      "cell_type": "markdown",
      "source": [
        "# Walk-forward"
      ],
      "metadata": {
        "id": "gPoMpyvcSw_S"
      }
    },
    {
      "cell_type": "code",
      "source": [
        "model_wf = keras.models.Sequential()\n",
        "model_wf.add(Dense(128, input_dim=len(X_train.columns), activation='relu'))\n",
        "model_wf.add(Dense(64, activation='relu'))\n",
        "model_wf.add(Dense(24, activation='linear'))\n",
        "model_wf.compile(loss='mean_squared_error', optimizer='adam', metrics=['mae'])\n",
        "checkpoint_wf = keras.callbacks.ModelCheckpoint('/content/drive/MyDrive/BME/2. félév/Önálló labor 2/best_nn_wf.hdf5', monitor='val_loss', verbose=1, save_best_only=True, save_weights_only=False, mode='auto', save_frequency=1)"
      ],
      "metadata": {
        "id": "AkAi8UygSzUH"
      },
      "execution_count": null,
      "outputs": []
    },
    {
      "cell_type": "code",
      "source": [
        "model_wf_history = []\n",
        "for p in range(5):\n",
        "    model_wf_history += [pd.DataFrame(model_wf.fit(x=X_train.iloc[p*len(X_train)//8:(p+3)*len(X_train)//8],\n",
        "                                                   y=y_train.iloc[p*len(y_train)//8:(p+3)*len(y_train)//8],\n",
        "                                                   batch_size=1000,\n",
        "                                                   epochs=20,\n",
        "                                                   validation_data=(X_train.iloc[(p+3)*len(X_train)//8:(p+4)*len(X_train)//8], y_train.iloc[(p+3)*len(y_train)//8:(p+4)*len(y_train)//8]),\n",
        "                                                   callbacks=[checkpoint_wf]).history)]"
      ],
      "metadata": {
        "colab": {
          "base_uri": "https://localhost:8080/"
        },
        "id": "k8LN7EKkTJZ0",
        "outputId": "4e1b6cf9-a15e-4634-953b-05dcdeb0d406"
      },
      "execution_count": null,
      "outputs": [
        {
          "output_type": "stream",
          "name": "stdout",
          "text": [
            "Epoch 1/20\n",
            "17/17 [==============================] - ETA: 0s - loss: 22802.3320 - mae: 97.5385 \n",
            "Epoch 1: val_loss improved from inf to 1411.51794, saving model to /content/drive/MyDrive/BME/2. félév/Önálló labor 2/best_nn_wf.hdf5\n"
          ]
        },
        {
          "output_type": "stream",
          "name": "stderr",
          "text": [
            "/usr/local/lib/python3.10/dist-packages/keras/src/engine/training.py:3079: UserWarning: You are saving your model as an HDF5 file via `model.save()`. This file format is considered legacy. We recommend using instead the native Keras format, e.g. `model.save('my_model.keras')`.\n",
            "  saving_api.save_model(\n"
          ]
        },
        {
          "output_type": "stream",
          "name": "stdout",
          "text": [
            "\b\b\b\b\b\b\b\b\b\b\b\b\b\b\b\b\b\b\b\b\b\b\b\b\b\b\b\b\b\b\b\b\b\b\b\b\b\b\b\b\b\b\b\b\b\b\b\b\b\b\b\b\b\b\b\b\b\b\b\b\b\b\b\b\b\b\b\b\b\b\b\b\b\b\b\b\b\b\b\b\b\b\r17/17 [==============================] - 4s 81ms/step - loss: 22802.3320 - mae: 97.5385 - val_loss: 1411.5179 - val_mae: 30.7175\n",
            "Epoch 2/20\n",
            "17/17 [==============================] - ETA: 0s - loss: 2249.1895 - mae: 39.5316\n",
            "Epoch 2: val_loss improved from 1411.51794 to 1206.42139, saving model to /content/drive/MyDrive/BME/2. félév/Önálló labor 2/best_nn_wf.hdf5\n",
            "17/17 [==============================] - 0s 25ms/step - loss: 2249.1895 - mae: 39.5316 - val_loss: 1206.4214 - val_mae: 27.8726\n",
            "Epoch 3/20\n",
            "16/17 [===========================>..] - ETA: 0s - loss: 1857.4265 - mae: 34.8306\n",
            "Epoch 3: val_loss improved from 1206.42139 to 1076.82495, saving model to /content/drive/MyDrive/BME/2. félév/Önálló labor 2/best_nn_wf.hdf5\n",
            "17/17 [==============================] - 0s 27ms/step - loss: 1853.2946 - mae: 34.7795 - val_loss: 1076.8250 - val_mae: 26.0908\n",
            "Epoch 4/20\n",
            "16/17 [===========================>..] - ETA: 0s - loss: 1414.3365 - mae: 29.7296\n",
            "Epoch 4: val_loss improved from 1076.82495 to 886.86194, saving model to /content/drive/MyDrive/BME/2. félév/Önálló labor 2/best_nn_wf.hdf5\n",
            "17/17 [==============================] - 0s 26ms/step - loss: 1407.1527 - mae: 29.6464 - val_loss: 886.8619 - val_mae: 23.7811\n",
            "Epoch 5/20\n",
            "17/17 [==============================] - ETA: 0s - loss: 995.2856 - mae: 24.4944 \n",
            "Epoch 5: val_loss improved from 886.86194 to 732.02863, saving model to /content/drive/MyDrive/BME/2. félév/Önálló labor 2/best_nn_wf.hdf5\n",
            "17/17 [==============================] - 0s 25ms/step - loss: 995.2856 - mae: 24.4944 - val_loss: 732.0286 - val_mae: 21.8801\n",
            "Epoch 6/20\n",
            "17/17 [==============================] - ETA: 0s - loss: 691.6490 - mae: 20.3029\n",
            "Epoch 6: val_loss improved from 732.02863 to 622.99060, saving model to /content/drive/MyDrive/BME/2. félév/Önálló labor 2/best_nn_wf.hdf5\n",
            "17/17 [==============================] - 0s 25ms/step - loss: 691.6490 - mae: 20.3029 - val_loss: 622.9906 - val_mae: 20.3109\n",
            "Epoch 7/20\n",
            "17/17 [==============================] - ETA: 0s - loss: 520.2946 - mae: 17.6718\n",
            "Epoch 7: val_loss improved from 622.99060 to 525.64709, saving model to /content/drive/MyDrive/BME/2. félév/Önálló labor 2/best_nn_wf.hdf5\n",
            "17/17 [==============================] - 0s 26ms/step - loss: 520.2946 - mae: 17.6718 - val_loss: 525.6471 - val_mae: 18.5137\n",
            "Epoch 8/20\n",
            "16/17 [===========================>..] - ETA: 0s - loss: 435.3014 - mae: 16.1893\n",
            "Epoch 8: val_loss improved from 525.64709 to 480.72656, saving model to /content/drive/MyDrive/BME/2. félév/Önálló labor 2/best_nn_wf.hdf5\n",
            "17/17 [==============================] - 0s 29ms/step - loss: 435.0493 - mae: 16.1820 - val_loss: 480.7266 - val_mae: 17.6504\n",
            "Epoch 9/20\n",
            "14/17 [=======================>......] - ETA: 0s - loss: 398.8324 - mae: 15.4739\n",
            "Epoch 9: val_loss did not improve from 480.72656\n",
            "17/17 [==============================] - 0s 23ms/step - loss: 396.1561 - mae: 15.4215 - val_loss: 489.4038 - val_mae: 17.9818\n",
            "Epoch 10/20\n",
            "14/17 [=======================>......] - ETA: 0s - loss: 373.4908 - mae: 14.9607\n",
            "Epoch 10: val_loss improved from 480.72656 to 431.25269, saving model to /content/drive/MyDrive/BME/2. félév/Önálló labor 2/best_nn_wf.hdf5\n",
            "17/17 [==============================] - 0s 25ms/step - loss: 372.1942 - mae: 14.9361 - val_loss: 431.2527 - val_mae: 16.7791\n",
            "Epoch 11/20\n",
            "16/17 [===========================>..] - ETA: 0s - loss: 357.9293 - mae: 14.6377\n",
            "Epoch 11: val_loss did not improve from 431.25269\n",
            "17/17 [==============================] - 0s 22ms/step - loss: 358.4975 - mae: 14.6445 - val_loss: 436.1114 - val_mae: 16.9128\n",
            "Epoch 12/20\n",
            "16/17 [===========================>..] - ETA: 0s - loss: 347.9409 - mae: 14.4296\n",
            "Epoch 12: val_loss improved from 431.25269 to 395.39072, saving model to /content/drive/MyDrive/BME/2. félév/Önálló labor 2/best_nn_wf.hdf5\n",
            "17/17 [==============================] - 1s 34ms/step - loss: 347.7381 - mae: 14.4234 - val_loss: 395.3907 - val_mae: 16.0062\n",
            "Epoch 13/20\n",
            "15/17 [=========================>....] - ETA: 0s - loss: 338.5089 - mae: 14.2350\n",
            "Epoch 13: val_loss improved from 395.39072 to 375.33209, saving model to /content/drive/MyDrive/BME/2. félév/Önálló labor 2/best_nn_wf.hdf5\n",
            "17/17 [==============================] - 1s 67ms/step - loss: 338.0204 - mae: 14.2195 - val_loss: 375.3321 - val_mae: 15.5668\n",
            "Epoch 14/20\n",
            "17/17 [==============================] - ETA: 0s - loss: 327.7328 - mae: 13.9966\n",
            "Epoch 14: val_loss improved from 375.33209 to 364.13214, saving model to /content/drive/MyDrive/BME/2. félév/Önálló labor 2/best_nn_wf.hdf5\n",
            "17/17 [==============================] - 1s 72ms/step - loss: 327.7328 - mae: 13.9966 - val_loss: 364.1321 - val_mae: 15.3800\n",
            "Epoch 15/20\n",
            "16/17 [===========================>..] - ETA: 0s - loss: 320.1127 - mae: 13.8386\n",
            "Epoch 15: val_loss improved from 364.13214 to 346.25873, saving model to /content/drive/MyDrive/BME/2. félév/Önálló labor 2/best_nn_wf.hdf5\n",
            "17/17 [==============================] - 1s 71ms/step - loss: 320.1483 - mae: 13.8386 - val_loss: 346.2587 - val_mae: 14.9282\n",
            "Epoch 16/20\n",
            "15/17 [=========================>....] - ETA: 0s - loss: 310.4002 - mae: 13.6157\n",
            "Epoch 16: val_loss improved from 346.25873 to 340.20453, saving model to /content/drive/MyDrive/BME/2. félév/Önálló labor 2/best_nn_wf.hdf5\n",
            "17/17 [==============================] - 1s 55ms/step - loss: 309.9827 - mae: 13.6109 - val_loss: 340.2045 - val_mae: 14.8714\n",
            "Epoch 17/20\n",
            "16/17 [===========================>..] - ETA: 0s - loss: 301.8185 - mae: 13.4323\n",
            "Epoch 17: val_loss improved from 340.20453 to 297.64569, saving model to /content/drive/MyDrive/BME/2. félév/Önálló labor 2/best_nn_wf.hdf5\n",
            "17/17 [==============================] - 1s 62ms/step - loss: 302.3601 - mae: 13.4426 - val_loss: 297.6457 - val_mae: 13.6475\n",
            "Epoch 18/20\n",
            "17/17 [==============================] - ETA: 0s - loss: 292.2812 - mae: 13.2135\n",
            "Epoch 18: val_loss improved from 297.64569 to 284.48410, saving model to /content/drive/MyDrive/BME/2. félév/Önálló labor 2/best_nn_wf.hdf5\n",
            "17/17 [==============================] - 1s 73ms/step - loss: 292.2812 - mae: 13.2135 - val_loss: 284.4841 - val_mae: 13.3084\n",
            "Epoch 19/20\n",
            "16/17 [===========================>..] - ETA: 0s - loss: 284.4308 - mae: 13.0330\n",
            "Epoch 19: val_loss improved from 284.48410 to 269.44168, saving model to /content/drive/MyDrive/BME/2. félév/Önálló labor 2/best_nn_wf.hdf5\n",
            "17/17 [==============================] - 1s 89ms/step - loss: 283.9260 - mae: 13.0244 - val_loss: 269.4417 - val_mae: 12.9363\n",
            "Epoch 20/20\n",
            "15/17 [=========================>....] - ETA: 0s - loss: 276.3083 - mae: 12.8393\n",
            "Epoch 20: val_loss improved from 269.44168 to 266.41025, saving model to /content/drive/MyDrive/BME/2. félév/Önálló labor 2/best_nn_wf.hdf5\n",
            "17/17 [==============================] - 1s 73ms/step - loss: 276.2048 - mae: 12.8374 - val_loss: 266.4102 - val_mae: 12.9022\n",
            "Epoch 1/20\n",
            "15/17 [=========================>....] - ETA: 0s - loss: 352.0837 - mae: 14.6052\n",
            "Epoch 1: val_loss did not improve from 266.41025\n",
            "17/17 [==============================] - 1s 78ms/step - loss: 357.3893 - mae: 14.7099 - val_loss: 403.9767 - val_mae: 15.2276\n",
            "Epoch 2/20\n",
            "15/17 [=========================>....] - ETA: 0s - loss: 336.6833 - mae: 14.2074\n",
            "Epoch 2: val_loss did not improve from 266.41025\n",
            "17/17 [==============================] - 0s 29ms/step - loss: 332.8256 - mae: 14.1205 - val_loss: 297.1391 - val_mae: 12.9238\n",
            "Epoch 3/20\n",
            "16/17 [===========================>..] - ETA: 0s - loss: 275.1129 - mae: 12.8172\n",
            "Epoch 3: val_loss did not improve from 266.41025\n",
            "17/17 [==============================] - 1s 33ms/step - loss: 274.5226 - mae: 12.8012 - val_loss: 283.9521 - val_mae: 12.7367\n",
            "Epoch 4/20\n",
            "15/17 [=========================>....] - ETA: 0s - loss: 261.0418 - mae: 12.4595\n",
            "Epoch 4: val_loss did not improve from 266.41025\n",
            "17/17 [==============================] - 0s 30ms/step - loss: 259.3627 - mae: 12.4252 - val_loss: 280.2052 - val_mae: 12.6885\n",
            "Epoch 5/20\n",
            "16/17 [===========================>..] - ETA: 0s - loss: 251.5481 - mae: 12.2284\n",
            "Epoch 5: val_loss did not improve from 266.41025\n",
            "17/17 [==============================] - 0s 29ms/step - loss: 251.3616 - mae: 12.2212 - val_loss: 277.6406 - val_mae: 12.6499\n",
            "Epoch 6/20\n",
            "16/17 [===========================>..] - ETA: 0s - loss: 246.0157 - mae: 12.0871\n",
            "Epoch 6: val_loss did not improve from 266.41025\n",
            "17/17 [==============================] - 1s 32ms/step - loss: 246.1662 - mae: 12.0894 - val_loss: 272.8429 - val_mae: 12.4674\n",
            "Epoch 7/20\n",
            "17/17 [==============================] - ETA: 0s - loss: 241.7737 - mae: 11.9794\n",
            "Epoch 7: val_loss did not improve from 266.41025\n",
            "17/17 [==============================] - 1s 35ms/step - loss: 241.7737 - mae: 11.9794 - val_loss: 266.9469 - val_mae: 12.2300\n",
            "Epoch 8/20\n",
            "15/17 [=========================>....] - ETA: 0s - loss: 238.3568 - mae: 11.8842\n",
            "Epoch 8: val_loss improved from 266.41025 to 263.67554, saving model to /content/drive/MyDrive/BME/2. félév/Önálló labor 2/best_nn_wf.hdf5\n"
          ]
        },
        {
          "output_type": "stream",
          "name": "stderr",
          "text": [
            "/usr/local/lib/python3.10/dist-packages/keras/src/engine/training.py:3079: UserWarning: You are saving your model as an HDF5 file via `model.save()`. This file format is considered legacy. We recommend using instead the native Keras format, e.g. `model.save('my_model.keras')`.\n",
            "  saving_api.save_model(\n"
          ]
        },
        {
          "output_type": "stream",
          "name": "stdout",
          "text": [
            "\b\b\b\b\b\b\b\b\b\b\b\b\b\b\b\b\b\b\b\b\b\b\b\b\b\b\b\b\b\b\b\b\b\b\b\b\b\b\b\b\b\b\b\b\b\b\b\b\b\b\b\b\b\b\b\b\b\b\b\b\b\b\b\b\b\b\b\b\b\b\b\b\b\b\b\b\b\b\b\b\r17/17 [==============================] - 1s 56ms/step - loss: 238.3296 - mae: 11.8838 - val_loss: 263.6755 - val_mae: 12.1676\n",
            "Epoch 9/20\n",
            "17/17 [==============================] - ETA: 0s - loss: 237.7424 - mae: 11.8689\n",
            "Epoch 9: val_loss did not improve from 263.67554\n",
            "17/17 [==============================] - 1s 42ms/step - loss: 237.7424 - mae: 11.8689 - val_loss: 268.3001 - val_mae: 12.4729\n",
            "Epoch 10/20\n",
            "16/17 [===========================>..] - ETA: 0s - loss: 235.9392 - mae: 11.8194\n",
            "Epoch 10: val_loss did not improve from 263.67554\n",
            "17/17 [==============================] - 1s 36ms/step - loss: 235.5276 - mae: 11.8113 - val_loss: 264.0213 - val_mae: 12.3478\n",
            "Epoch 11/20\n",
            "15/17 [=========================>....] - ETA: 0s - loss: 227.3909 - mae: 11.5946\n",
            "Epoch 11: val_loss improved from 263.67554 to 255.20740, saving model to /content/drive/MyDrive/BME/2. félév/Önálló labor 2/best_nn_wf.hdf5\n",
            "17/17 [==============================] - 1s 45ms/step - loss: 227.1659 - mae: 11.5876 - val_loss: 255.2074 - val_mae: 12.0223\n",
            "Epoch 12/20\n",
            "15/17 [=========================>....] - ETA: 0s - loss: 224.6636 - mae: 11.5186\n",
            "Epoch 12: val_loss improved from 255.20740 to 251.23628, saving model to /content/drive/MyDrive/BME/2. félév/Önálló labor 2/best_nn_wf.hdf5\n",
            "17/17 [==============================] - 1s 43ms/step - loss: 224.3166 - mae: 11.5075 - val_loss: 251.2363 - val_mae: 11.8542\n",
            "Epoch 13/20\n",
            "17/17 [==============================] - ETA: 0s - loss: 221.1536 - mae: 11.4164\n",
            "Epoch 13: val_loss improved from 251.23628 to 249.61229, saving model to /content/drive/MyDrive/BME/2. félév/Önálló labor 2/best_nn_wf.hdf5\n",
            "17/17 [==============================] - 1s 45ms/step - loss: 221.1536 - mae: 11.4164 - val_loss: 249.6123 - val_mae: 11.8592\n",
            "Epoch 14/20\n",
            "15/17 [=========================>....] - ETA: 0s - loss: 221.2658 - mae: 11.4226\n",
            "Epoch 14: val_loss improved from 249.61229 to 246.91490, saving model to /content/drive/MyDrive/BME/2. félév/Önálló labor 2/best_nn_wf.hdf5\n",
            "17/17 [==============================] - 1s 56ms/step - loss: 220.4357 - mae: 11.4007 - val_loss: 246.9149 - val_mae: 11.7733\n",
            "Epoch 15/20\n",
            "15/17 [=========================>....] - ETA: 0s - loss: 217.8628 - mae: 11.3188\n",
            "Epoch 15: val_loss improved from 246.91490 to 244.95105, saving model to /content/drive/MyDrive/BME/2. félév/Önálló labor 2/best_nn_wf.hdf5\n",
            "17/17 [==============================] - 1s 48ms/step - loss: 217.0659 - mae: 11.3029 - val_loss: 244.9510 - val_mae: 11.7165\n",
            "Epoch 16/20\n",
            "15/17 [=========================>....] - ETA: 0s - loss: 215.6141 - mae: 11.2708\n",
            "Epoch 16: val_loss improved from 244.95105 to 242.77309, saving model to /content/drive/MyDrive/BME/2. félév/Önálló labor 2/best_nn_wf.hdf5\n",
            "17/17 [==============================] - 1s 45ms/step - loss: 215.2908 - mae: 11.2575 - val_loss: 242.7731 - val_mae: 11.6474\n",
            "Epoch 17/20\n",
            "16/17 [===========================>..] - ETA: 0s - loss: 215.1094 - mae: 11.2522\n",
            "Epoch 17: val_loss did not improve from 242.77309\n",
            "17/17 [==============================] - 1s 70ms/step - loss: 215.0545 - mae: 11.2461 - val_loss: 246.2614 - val_mae: 11.8691\n",
            "Epoch 18/20\n",
            "15/17 [=========================>....] - ETA: 0s - loss: 213.0546 - mae: 11.1961\n",
            "Epoch 18: val_loss improved from 242.77309 to 240.39948, saving model to /content/drive/MyDrive/BME/2. félév/Önálló labor 2/best_nn_wf.hdf5\n",
            "17/17 [==============================] - 1s 50ms/step - loss: 212.6463 - mae: 11.1791 - val_loss: 240.3995 - val_mae: 11.6255\n",
            "Epoch 19/20\n",
            "15/17 [=========================>....] - ETA: 0s - loss: 212.2215 - mae: 11.1656\n",
            "Epoch 19: val_loss did not improve from 240.39948\n",
            "17/17 [==============================] - 1s 54ms/step - loss: 211.3749 - mae: 11.1438 - val_loss: 241.7780 - val_mae: 11.7241\n",
            "Epoch 20/20\n",
            "15/17 [=========================>....] - ETA: 0s - loss: 210.3347 - mae: 11.1135\n",
            "Epoch 20: val_loss improved from 240.39948 to 236.31891, saving model to /content/drive/MyDrive/BME/2. félév/Önálló labor 2/best_nn_wf.hdf5\n",
            "17/17 [==============================] - 1s 58ms/step - loss: 210.4630 - mae: 11.1156 - val_loss: 236.3189 - val_mae: 11.4018\n",
            "Epoch 1/20\n",
            "15/17 [=========================>....] - ETA: 0s - loss: 203.8110 - mae: 10.7813\n",
            "Epoch 1: val_loss did not improve from 236.31891\n",
            "17/17 [==============================] - 1s 70ms/step - loss: 202.1802 - mae: 10.7409 - val_loss: 277957.0312 - val_mae: 222.2067\n",
            "Epoch 2/20\n",
            "15/17 [=========================>....] - ETA: 0s - loss: 199.3771 - mae: 10.6661\n",
            "Epoch 2: val_loss did not improve from 236.31891\n",
            "17/17 [==============================] - 1s 34ms/step - loss: 200.0795 - mae: 10.6796 - val_loss: 277952.9062 - val_mae: 222.1658\n",
            "Epoch 3/20\n",
            "17/17 [==============================] - ETA: 0s - loss: 201.8983 - mae: 10.7384\n",
            "Epoch 3: val_loss did not improve from 236.31891\n",
            "17/17 [==============================] - 1s 37ms/step - loss: 201.8983 - mae: 10.7384 - val_loss: 277991.5312 - val_mae: 222.5735\n",
            "Epoch 4/20\n",
            "16/17 [===========================>..] - ETA: 0s - loss: 198.6279 - mae: 10.6394\n",
            "Epoch 4: val_loss did not improve from 236.31891\n",
            "17/17 [==============================] - 0s 29ms/step - loss: 198.3661 - mae: 10.6297 - val_loss: 277996.8750 - val_mae: 222.5213\n",
            "Epoch 5/20\n",
            "15/17 [=========================>....] - ETA: 0s - loss: 197.4872 - mae: 10.6018\n",
            "Epoch 5: val_loss did not improve from 236.31891\n",
            "17/17 [==============================] - 1s 33ms/step - loss: 196.5505 - mae: 10.5771 - val_loss: 277983.9688 - val_mae: 222.2086\n",
            "Epoch 6/20\n",
            "15/17 [=========================>....] - ETA: 0s - loss: 195.6610 - mae: 10.5304\n",
            "Epoch 6: val_loss did not improve from 236.31891\n",
            "17/17 [==============================] - 1s 31ms/step - loss: 194.2769 - mae: 10.5057 - val_loss: 277986.3438 - val_mae: 222.1254\n",
            "Epoch 7/20\n",
            "16/17 [===========================>..] - ETA: 0s - loss: 193.5521 - mae: 10.4814\n",
            "Epoch 7: val_loss did not improve from 236.31891\n",
            "17/17 [==============================] - 1s 31ms/step - loss: 193.1658 - mae: 10.4737 - val_loss: 278017.0625 - val_mae: 222.4173\n",
            "Epoch 8/20\n",
            "17/17 [==============================] - ETA: 0s - loss: 196.2677 - mae: 10.5680\n",
            "Epoch 8: val_loss did not improve from 236.31891\n",
            "17/17 [==============================] - 1s 46ms/step - loss: 196.2677 - mae: 10.5680 - val_loss: 277979.3125 - val_mae: 221.9984\n",
            "Epoch 9/20\n",
            "17/17 [==============================] - ETA: 0s - loss: 195.3881 - mae: 10.5576\n",
            "Epoch 9: val_loss did not improve from 236.31891\n",
            "17/17 [==============================] - 1s 37ms/step - loss: 195.3881 - mae: 10.5576 - val_loss: 278015.3125 - val_mae: 222.0526\n",
            "Epoch 10/20\n",
            "16/17 [===========================>..] - ETA: 0s - loss: 189.8771 - mae: 10.3777\n",
            "Epoch 10: val_loss did not improve from 236.31891\n",
            "17/17 [==============================] - 1s 40ms/step - loss: 190.1009 - mae: 10.3782 - val_loss: 278021.3438 - val_mae: 222.0106\n",
            "Epoch 11/20\n",
            "16/17 [===========================>..] - ETA: 0s - loss: 188.7753 - mae: 10.3430\n",
            "Epoch 11: val_loss did not improve from 236.31891\n",
            "17/17 [==============================] - 1s 38ms/step - loss: 188.8663 - mae: 10.3429 - val_loss: 278052.2500 - val_mae: 222.1753\n",
            "Epoch 12/20\n",
            "16/17 [===========================>..] - ETA: 0s - loss: 188.0922 - mae: 10.3187\n",
            "Epoch 12: val_loss did not improve from 236.31891\n",
            "17/17 [==============================] - 1s 39ms/step - loss: 188.3837 - mae: 10.3282 - val_loss: 278047.7188 - val_mae: 222.1027\n",
            "Epoch 13/20\n",
            "16/17 [===========================>..] - ETA: 0s - loss: 186.7394 - mae: 10.2704\n",
            "Epoch 13: val_loss did not improve from 236.31891\n",
            "17/17 [==============================] - 1s 39ms/step - loss: 186.4006 - mae: 10.2652 - val_loss: 278045.9375 - val_mae: 221.9800\n",
            "Epoch 14/20\n",
            "15/17 [=========================>....] - ETA: 0s - loss: 185.7643 - mae: 10.2390\n",
            "Epoch 14: val_loss did not improve from 236.31891\n",
            "17/17 [==============================] - 1s 41ms/step - loss: 185.1953 - mae: 10.2265 - val_loss: 278046.8750 - val_mae: 221.8681\n",
            "Epoch 15/20\n",
            "16/17 [===========================>..] - ETA: 0s - loss: 185.9279 - mae: 10.2531\n",
            "Epoch 15: val_loss did not improve from 236.31891\n",
            "17/17 [==============================] - 1s 35ms/step - loss: 185.4908 - mae: 10.2436 - val_loss: 278067.9375 - val_mae: 221.9728\n",
            "Epoch 16/20\n",
            "17/17 [==============================] - ETA: 0s - loss: 184.1717 - mae: 10.1989\n",
            "Epoch 16: val_loss did not improve from 236.31891\n",
            "17/17 [==============================] - 1s 47ms/step - loss: 184.1717 - mae: 10.1989 - val_loss: 278070.5000 - val_mae: 222.1599\n",
            "Epoch 17/20\n",
            "15/17 [=========================>....] - ETA: 0s - loss: 185.7337 - mae: 10.2406\n",
            "Epoch 17: val_loss did not improve from 236.31891\n",
            "17/17 [==============================] - 1s 55ms/step - loss: 185.4900 - mae: 10.2473 - val_loss: 278089.6562 - val_mae: 222.1546\n",
            "Epoch 18/20\n",
            "17/17 [==============================] - ETA: 0s - loss: 183.9867 - mae: 10.1990\n",
            "Epoch 18: val_loss did not improve from 236.31891\n",
            "17/17 [==============================] - 1s 31ms/step - loss: 183.9867 - mae: 10.1990 - val_loss: 278097.4062 - val_mae: 222.2045\n",
            "Epoch 19/20\n",
            "16/17 [===========================>..] - ETA: 0s - loss: 182.7291 - mae: 10.1491\n",
            "Epoch 19: val_loss did not improve from 236.31891\n",
            "17/17 [==============================] - 0s 26ms/step - loss: 182.5149 - mae: 10.1459 - val_loss: 278074.5312 - val_mae: 221.8355\n",
            "Epoch 20/20\n",
            "14/17 [=======================>......] - ETA: 0s - loss: 182.2201 - mae: 10.1226\n",
            "Epoch 20: val_loss did not improve from 236.31891\n",
            "17/17 [==============================] - 0s 29ms/step - loss: 180.9128 - mae: 10.0942 - val_loss: 278101.2500 - val_mae: 222.0506\n",
            "Epoch 1/20\n",
            "16/17 [===========================>..] - ETA: 0s - loss: 11868.0840 - mae: 38.8443\n",
            "Epoch 1: val_loss did not improve from 236.31891\n",
            "17/17 [==============================] - 1s 59ms/step - loss: 11587.0977 - mae: 38.3939 - val_loss: 28284.2012 - val_mae: 143.8543\n",
            "Epoch 2/20\n",
            "17/17 [==============================] - ETA: 0s - loss: 602.5340 - mae: 16.8388\n",
            "Epoch 2: val_loss did not improve from 236.31891\n",
            "17/17 [==============================] - 0s 28ms/step - loss: 602.5340 - mae: 16.8388 - val_loss: 12427.2412 - val_mae: 87.5666\n",
            "Epoch 3/20\n",
            "15/17 [=========================>....] - ETA: 0s - loss: 386.6228 - mae: 13.8951\n",
            "Epoch 3: val_loss did not improve from 236.31891\n",
            "17/17 [==============================] - 0s 29ms/step - loss: 383.2581 - mae: 13.8379 - val_loss: 12944.0918 - val_mae: 90.1824\n",
            "Epoch 4/20\n",
            "14/17 [=======================>......] - ETA: 0s - loss: 344.0355 - mae: 13.1613\n",
            "Epoch 4: val_loss did not improve from 236.31891\n",
            "17/17 [==============================] - 0s 26ms/step - loss: 343.7435 - mae: 13.1428 - val_loss: 11308.3877 - val_mae: 83.0628\n",
            "Epoch 5/20\n",
            "16/17 [===========================>..] - ETA: 0s - loss: 328.5988 - mae: 12.8415\n",
            "Epoch 5: val_loss did not improve from 236.31891\n",
            "17/17 [==============================] - 0s 27ms/step - loss: 328.0374 - mae: 12.8362 - val_loss: 10823.6807 - val_mae: 81.1901\n",
            "Epoch 6/20\n",
            "17/17 [==============================] - ETA: 0s - loss: 322.5627 - mae: 12.7708\n",
            "Epoch 6: val_loss did not improve from 236.31891\n",
            "17/17 [==============================] - 0s 28ms/step - loss: 322.5627 - mae: 12.7708 - val_loss: 10124.7461 - val_mae: 78.0848\n",
            "Epoch 7/20\n",
            "16/17 [===========================>..] - ETA: 0s - loss: 315.9812 - mae: 12.6688\n",
            "Epoch 7: val_loss did not improve from 236.31891\n",
            "17/17 [==============================] - 1s 33ms/step - loss: 315.8018 - mae: 12.6669 - val_loss: 8693.8682 - val_mae: 71.2654\n",
            "Epoch 8/20\n",
            "16/17 [===========================>..] - ETA: 0s - loss: 313.6586 - mae: 12.6869\n",
            "Epoch 8: val_loss did not improve from 236.31891\n",
            "17/17 [==============================] - 1s 30ms/step - loss: 313.9774 - mae: 12.6891 - val_loss: 8933.1025 - val_mae: 72.6000\n",
            "Epoch 9/20\n",
            "16/17 [===========================>..] - ETA: 0s - loss: 308.3552 - mae: 12.6056\n",
            "Epoch 9: val_loss did not improve from 236.31891\n",
            "17/17 [==============================] - 0s 26ms/step - loss: 309.4545 - mae: 12.6149 - val_loss: 8059.0547 - val_mae: 68.3237\n",
            "Epoch 10/20\n",
            "16/17 [===========================>..] - ETA: 0s - loss: 305.3124 - mae: 12.5178\n",
            "Epoch 10: val_loss did not improve from 236.31891\n",
            "17/17 [==============================] - 0s 24ms/step - loss: 304.7147 - mae: 12.5070 - val_loss: 8564.8145 - val_mae: 70.9956\n",
            "Epoch 11/20\n",
            "16/17 [===========================>..] - ETA: 0s - loss: 299.6403 - mae: 12.3966\n",
            "Epoch 11: val_loss did not improve from 236.31891\n",
            "17/17 [==============================] - 0s 27ms/step - loss: 300.3952 - mae: 12.4124 - val_loss: 7400.4312 - val_mae: 65.1624\n",
            "Epoch 12/20\n",
            "14/17 [=======================>......] - ETA: 0s - loss: 299.7933 - mae: 12.4470\n",
            "Epoch 12: val_loss did not improve from 236.31891\n",
            "17/17 [==============================] - 1s 34ms/step - loss: 300.4188 - mae: 12.4644 - val_loss: 7447.4990 - val_mae: 65.5029\n",
            "Epoch 13/20\n",
            "16/17 [===========================>..] - ETA: 0s - loss: 297.1738 - mae: 12.3929\n",
            "Epoch 13: val_loss did not improve from 236.31891\n",
            "17/17 [==============================] - 0s 27ms/step - loss: 296.8373 - mae: 12.3902 - val_loss: 6948.0762 - val_mae: 63.0451\n",
            "Epoch 14/20\n",
            "16/17 [===========================>..] - ETA: 0s - loss: 292.7286 - mae: 12.2992\n",
            "Epoch 14: val_loss did not improve from 236.31891\n",
            "17/17 [==============================] - 1s 38ms/step - loss: 293.1909 - mae: 12.3042 - val_loss: 6662.8931 - val_mae: 61.7040\n",
            "Epoch 15/20\n",
            "17/17 [==============================] - ETA: 0s - loss: 293.2040 - mae: 12.3125\n",
            "Epoch 15: val_loss did not improve from 236.31891\n",
            "17/17 [==============================] - 1s 52ms/step - loss: 293.2040 - mae: 12.3125 - val_loss: 6852.5225 - val_mae: 62.7153\n",
            "Epoch 16/20\n",
            "17/17 [==============================] - ETA: 0s - loss: 290.8962 - mae: 12.2607\n",
            "Epoch 16: val_loss did not improve from 236.31891\n",
            "17/17 [==============================] - 1s 47ms/step - loss: 290.8962 - mae: 12.2607 - val_loss: 6616.4048 - val_mae: 61.5705\n",
            "Epoch 17/20\n",
            "17/17 [==============================] - ETA: 0s - loss: 289.5774 - mae: 12.2287\n",
            "Epoch 17: val_loss did not improve from 236.31891\n",
            "17/17 [==============================] - 1s 38ms/step - loss: 289.5774 - mae: 12.2287 - val_loss: 6292.9219 - val_mae: 60.0086\n",
            "Epoch 18/20\n",
            "17/17 [==============================] - ETA: 0s - loss: 289.2355 - mae: 12.2420\n",
            "Epoch 18: val_loss did not improve from 236.31891\n",
            "17/17 [==============================] - 1s 40ms/step - loss: 289.2355 - mae: 12.2420 - val_loss: 6618.5884 - val_mae: 61.6928\n",
            "Epoch 19/20\n",
            "17/17 [==============================] - ETA: 0s - loss: 289.4413 - mae: 12.2339\n",
            "Epoch 19: val_loss did not improve from 236.31891\n",
            "17/17 [==============================] - 1s 37ms/step - loss: 289.4413 - mae: 12.2339 - val_loss: 5874.8042 - val_mae: 57.9544\n",
            "Epoch 20/20\n",
            "16/17 [===========================>..] - ETA: 0s - loss: 289.4950 - mae: 12.2532\n",
            "Epoch 20: val_loss did not improve from 236.31891\n",
            "17/17 [==============================] - 1s 47ms/step - loss: 288.9718 - mae: 12.2462 - val_loss: 6153.2236 - val_mae: 59.3664\n",
            "Epoch 1/20\n",
            "17/17 [==============================] - ETA: 0s - loss: 2368.4014 - mae: 30.1539\n",
            "Epoch 1: val_loss did not improve from 236.31891\n",
            "17/17 [==============================] - 1s 50ms/step - loss: 2368.4014 - mae: 30.1539 - val_loss: 11083.7080 - val_mae: 78.8053\n",
            "Epoch 2/20\n",
            "17/17 [==============================] - ETA: 0s - loss: 1860.3823 - mae: 27.2371\n",
            "Epoch 2: val_loss did not improve from 236.31891\n",
            "17/17 [==============================] - 0s 25ms/step - loss: 1860.3823 - mae: 27.2371 - val_loss: 10742.3984 - val_mae: 77.9035\n",
            "Epoch 3/20\n",
            "17/17 [==============================] - ETA: 0s - loss: 1752.2097 - mae: 26.5279\n",
            "Epoch 3: val_loss did not improve from 236.31891\n",
            "17/17 [==============================] - 0s 28ms/step - loss: 1752.2097 - mae: 26.5279 - val_loss: 10135.1680 - val_mae: 76.0329\n",
            "Epoch 4/20\n",
            "15/17 [=========================>....] - ETA: 0s - loss: 1678.7615 - mae: 25.9954\n",
            "Epoch 4: val_loss did not improve from 236.31891\n",
            "17/17 [==============================] - 0s 27ms/step - loss: 1685.8903 - mae: 26.0349 - val_loss: 9837.1445 - val_mae: 75.0045\n",
            "Epoch 5/20\n",
            "17/17 [==============================] - ETA: 0s - loss: 1644.4241 - mae: 25.8141\n",
            "Epoch 5: val_loss did not improve from 236.31891\n",
            "17/17 [==============================] - 0s 28ms/step - loss: 1644.4241 - mae: 25.8141 - val_loss: 9641.3506 - val_mae: 74.3591\n",
            "Epoch 6/20\n",
            "17/17 [==============================] - ETA: 0s - loss: 1629.7544 - mae: 25.7618\n",
            "Epoch 6: val_loss did not improve from 236.31891\n",
            "17/17 [==============================] - 0s 29ms/step - loss: 1629.7544 - mae: 25.7618 - val_loss: 9547.0420 - val_mae: 74.0628\n",
            "Epoch 7/20\n",
            "17/17 [==============================] - ETA: 0s - loss: 1634.9806 - mae: 25.8216\n",
            "Epoch 7: val_loss did not improve from 236.31891\n",
            "17/17 [==============================] - 0s 29ms/step - loss: 1634.9806 - mae: 25.8216 - val_loss: 9523.1768 - val_mae: 74.0713\n",
            "Epoch 8/20\n",
            "16/17 [===========================>..] - ETA: 0s - loss: 1576.4038 - mae: 25.4211\n",
            "Epoch 8: val_loss did not improve from 236.31891\n",
            "17/17 [==============================] - 0s 30ms/step - loss: 1572.9330 - mae: 25.4044 - val_loss: 9476.0293 - val_mae: 73.7968\n",
            "Epoch 9/20\n",
            "17/17 [==============================] - ETA: 0s - loss: 1552.2970 - mae: 25.2553\n",
            "Epoch 9: val_loss did not improve from 236.31891\n",
            "17/17 [==============================] - 0s 26ms/step - loss: 1552.2970 - mae: 25.2553 - val_loss: 9440.8047 - val_mae: 73.6897\n",
            "Epoch 10/20\n",
            "16/17 [===========================>..] - ETA: 0s - loss: 1563.6669 - mae: 25.3842\n",
            "Epoch 10: val_loss did not improve from 236.31891\n",
            "17/17 [==============================] - 0s 26ms/step - loss: 1564.3590 - mae: 25.3717 - val_loss: 9429.0830 - val_mae: 73.7212\n",
            "Epoch 11/20\n",
            "15/17 [=========================>....] - ETA: 0s - loss: 1526.8549 - mae: 25.1577\n",
            "Epoch 11: val_loss did not improve from 236.31891\n",
            "17/17 [==============================] - 1s 33ms/step - loss: 1531.3191 - mae: 25.1953 - val_loss: 9467.4912 - val_mae: 73.6912\n",
            "Epoch 12/20\n",
            "16/17 [===========================>..] - ETA: 0s - loss: 1534.9867 - mae: 25.4435\n",
            "Epoch 12: val_loss did not improve from 236.31891\n",
            "17/17 [==============================] - 0s 28ms/step - loss: 1531.3308 - mae: 25.4231 - val_loss: 9353.1514 - val_mae: 73.6302\n",
            "Epoch 13/20\n",
            "17/17 [==============================] - ETA: 0s - loss: 1541.6738 - mae: 25.4489\n",
            "Epoch 13: val_loss did not improve from 236.31891\n",
            "17/17 [==============================] - 0s 29ms/step - loss: 1541.6738 - mae: 25.4489 - val_loss: 9387.5693 - val_mae: 73.5866\n",
            "Epoch 14/20\n",
            "15/17 [=========================>....] - ETA: 0s - loss: 1546.0980 - mae: 25.3368\n",
            "Epoch 14: val_loss did not improve from 236.31891\n",
            "17/17 [==============================] - 0s 28ms/step - loss: 1547.4126 - mae: 25.3542 - val_loss: 9451.4863 - val_mae: 73.7333\n",
            "Epoch 15/20\n",
            "15/17 [=========================>....] - ETA: 0s - loss: 1497.1055 - mae: 25.0115\n",
            "Epoch 15: val_loss did not improve from 236.31891\n",
            "17/17 [==============================] - 0s 28ms/step - loss: 1502.7457 - mae: 25.0387 - val_loss: 9412.9883 - val_mae: 73.6568\n",
            "Epoch 16/20\n",
            "16/17 [===========================>..] - ETA: 0s - loss: 1476.4858 - mae: 24.8207\n",
            "Epoch 16: val_loss did not improve from 236.31891\n",
            "17/17 [==============================] - 0s 24ms/step - loss: 1482.9662 - mae: 24.8756 - val_loss: 9382.3037 - val_mae: 73.5776\n",
            "Epoch 17/20\n",
            "16/17 [===========================>..] - ETA: 0s - loss: 1476.7869 - mae: 24.8483\n",
            "Epoch 17: val_loss did not improve from 236.31891\n",
            "17/17 [==============================] - 0s 29ms/step - loss: 1483.2371 - mae: 24.8797 - val_loss: 9400.7617 - val_mae: 73.6279\n",
            "Epoch 18/20\n",
            "17/17 [==============================] - ETA: 0s - loss: 1468.9576 - mae: 24.7875\n",
            "Epoch 18: val_loss did not improve from 236.31891\n",
            "17/17 [==============================] - 0s 26ms/step - loss: 1468.9576 - mae: 24.7875 - val_loss: 9463.2988 - val_mae: 73.7573\n",
            "Epoch 19/20\n",
            "15/17 [=========================>....] - ETA: 0s - loss: 1468.9899 - mae: 24.8914\n",
            "Epoch 19: val_loss did not improve from 236.31891\n",
            "17/17 [==============================] - 0s 24ms/step - loss: 1475.6735 - mae: 24.9096 - val_loss: 9405.6592 - val_mae: 73.5900\n",
            "Epoch 20/20\n",
            "13/17 [=====================>........] - ETA: 0s - loss: 1475.2487 - mae: 24.8722\n",
            "Epoch 20: val_loss did not improve from 236.31891\n",
            "17/17 [==============================] - 0s 22ms/step - loss: 1480.1553 - mae: 24.9426 - val_loss: 9499.6426 - val_mae: 73.8722\n"
          ]
        }
      ]
    },
    {
      "cell_type": "code",
      "source": [
        "model_wf.save('/content/drive/MyDrive/BME/2. félév/Önálló labor 2/model_wf.keras')"
      ],
      "metadata": {
        "id": "URtjDQlkEZQu"
      },
      "execution_count": null,
      "outputs": []
    },
    {
      "cell_type": "code",
      "source": [
        "model_wf = keras.models.load_model('/content/drive/MyDrive/BME/2. félév/Önálló labor 2/model_wf.keras')"
      ],
      "metadata": {
        "id": "cprwPRivh04F"
      },
      "execution_count": 45,
      "outputs": []
    },
    {
      "cell_type": "code",
      "source": [
        "pd.concat(model_wf_history).reset_index()[['loss', 'val_loss']].plot(figsize=(8,4))\n",
        "plt.xlabel('epoch')\n",
        "plt.ylabel('loss')\n",
        "plt.yscale('log')"
      ],
      "metadata": {
        "id": "kU_J3wTWh_r-"
      },
      "execution_count": null,
      "outputs": []
    },
    {
      "cell_type": "code",
      "source": [
        "fig, axes = plt.subplots(nrows=2, ncols=1)\n",
        "fig.tight_layout()\n",
        "axes[0].set_yscale('log')\n",
        "axes[0].set_ylabel('loss')\n",
        "axes[0].set_xlabel('epoch')\n",
        "pd.concat(model_wf_history).reset_index()[['loss', 'val_loss']].plot(ax=axes[0])\n",
        "y_nn.plot(ax=axes[1])\n",
        "axes[1].set_xticklabels(axes[1].get_xticks(), rotation=45)"
      ],
      "metadata": {
        "colab": {
          "base_uri": "https://localhost:8080/",
          "height": 717
        },
        "id": "uynIILtEwzPy",
        "outputId": "c42fc190-f589-4291-ab0b-5f0bef212251"
      },
      "execution_count": null,
      "outputs": [
        {
          "output_type": "execute_result",
          "data": {
            "text/plain": [
              "[Text(-5000.0, 0, '-5000.0'),\n",
              " Text(0.0, 0, '0.0'),\n",
              " Text(5000.0, 0, '5000.0'),\n",
              " Text(10000.0, 0, '10000.0'),\n",
              " Text(15000.0, 0, '15000.0'),\n",
              " Text(20000.0, 0, '20000.0'),\n",
              " Text(25000.0, 0, '25000.0'),\n",
              " Text(30000.0, 0, '30000.0'),\n",
              " Text(35000.0, 0, '35000.0'),\n",
              " Text(40000.0, 0, '40000.0'),\n",
              " Text(45000.0, 0, '45000.0')]"
            ]
          },
          "metadata": {},
          "execution_count": 89
        },
        {
          "output_type": "display_data",
          "data": {
            "text/plain": [
              "<Figure size 640x480 with 2 Axes>"
            ],
            "image/png": "[encoded data removed]"
          },
          "metadata": {}
        }
      ]
    },
    {
      "cell_type": "code",
      "source": [
        "y_wf = model_wf.predict(X_test)"
      ],
      "metadata": {
        "colab": {
          "base_uri": "https://localhost:8080/"
        },
        "id": "_VN2Ba8TcJs0",
        "outputId": "b6805828-c7ce-425e-87e0-94b4888cd39c"
      },
      "execution_count": 47,
      "outputs": [
        {
          "output_type": "stream",
          "name": "stdout",
          "text": [
            "228/228 [==============================] - 1s 2ms/step\n"
          ]
        }
      ]
    },
    {
      "cell_type": "code",
      "source": [
        "((y_test - y_wf)**2).mean().mean()**0.5"
      ],
      "metadata": {
        "colab": {
          "base_uri": "https://localhost:8080/"
        },
        "id": "mEQEzJTucSTI",
        "outputId": "96a4d0ea-8b5f-4b70-a53a-b9f785a85aa9"
      },
      "execution_count": 48,
      "outputs": [
        {
          "output_type": "execute_result",
          "data": {
            "text/plain": [
              "40.796552426224615"
            ]
          },
          "metadata": {},
          "execution_count": 48
        }
      ]
    },
    {
      "cell_type": "code",
      "source": [
        "np.corrcoef(y_test.to_numpy().flatten(), y_wf.flatten())[0,1]**2"
      ],
      "metadata": {
        "colab": {
          "base_uri": "https://localhost:8080/"
        },
        "id": "qrHd66R3cbwj",
        "outputId": "8f28823e-bd45-42c9-9017-2cc432350a07"
      },
      "execution_count": 50,
      "outputs": [
        {
          "output_type": "execute_result",
          "data": {
            "text/plain": [
              "0.26955447181750736"
            ]
          },
          "metadata": {},
          "execution_count": 50
        }
      ]
    },
    {
      "cell_type": "markdown",
      "source": [
        "# Conclusion"
      ],
      "metadata": {
        "id": "XPxCzd7xtkWw"
      }
    },
    {
      "cell_type": "code",
      "source": [
        "pd.DataFrame([(((y_seasonal + y_trend + y_resid - y_test)**2).mean()**0.5), (((y_nn - y_test)**2).mean()**0.5), (((y_wf - y_test)**2).mean()**0.5)], index=['decomposition', 'neural network', 'walk-forward']).T.plot(figsize=(8,4), xlabel='hours since data', ylabel='root-mean-square error')"
      ],
      "metadata": {
        "colab": {
          "base_uri": "https://localhost:8080/",
          "height": 406
        },
        "id": "EXMj1EHXtlXT",
        "outputId": "546007e6-67f3-4fe3-adcc-9a3a83e34ef1"
      },
      "execution_count": null,
      "outputs": [
        {
          "output_type": "execute_result",
          "data": {
            "text/plain": [
              "<Axes: xlabel='hours since data', ylabel='root-mean-square error'>"
            ]
          },
          "metadata": {},
          "execution_count": 35
        },
        {
          "output_type": "display_data",
          "data": {
            "text/plain": [
              "<Figure size 800x400 with 1 Axes>"
            ],
            "image/png": "[encoded data removed]"
          },
          "metadata": {}
        }
      ]
    },
    {
      "cell_type": "code",
      "source": [
        "np.corrcoef(y_nn[:,0], y_test.iloc[:,0])[0,1]**2"
      ],
      "metadata": {
        "colab": {
          "base_uri": "https://localhost:8080/"
        },
        "id": "9pVGwdLTFdOD",
        "outputId": "0281cd43-ee65-4674-eae3-4778188ca9f3"
      },
      "execution_count": 52,
      "outputs": [
        {
          "output_type": "execute_result",
          "data": {
            "text/plain": [
              "0.7494863415967461"
            ]
          },
          "metadata": {},
          "execution_count": 52
        }
      ]
    },
    {
      "cell_type": "code",
      "source": [
        "((y_nn[:,0] - y_test.iloc[:,0])**2).mean()**0.5"
      ],
      "metadata": {
        "colab": {
          "base_uri": "https://localhost:8080/"
        },
        "id": "DLJXADzCFkhM",
        "outputId": "8786cb4c-ac23-4776-d28f-5a974c1454fe"
      },
      "execution_count": 53,
      "outputs": [
        {
          "output_type": "execute_result",
          "data": {
            "text/plain": [
              "23.90234780345836"
            ]
          },
          "metadata": {},
          "execution_count": 53
        }
      ]
    }
  ],
  "metadata": {
    "colab": {
      "provenance": [],
      "collapsed_sections": [
        "3ltSTMKVe8W_"
      ],
      "gpuType": "T4"
    },
    "kernelspec": {
      "display_name": "Python 3",
      "name": "python3"
    },
    "language_info": {
      "name": "python"
    },
    "accelerator": "GPU"
  },
  "nbformat": 4,
  "nbformat_minor": 0
}